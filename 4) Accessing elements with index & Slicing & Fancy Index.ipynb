{
 "cells": [
  {
   "cell_type": "markdown",
   "id": "d6c3b2b6-62fb-44ef-83d0-6e3461424569",
   "metadata": {},
   "source": [
    "## İndex İle Elemanlara Erişmek"
   ]
  },
  {
   "cell_type": "code",
   "execution_count": 16,
   "id": "786630cb-4215-4f0a-a5c9-eca1186ae758",
   "metadata": {},
   "outputs": [
    {
     "name": "stdout",
     "output_type": "stream",
     "text": [
      "[8 3 1 7 1 9 1 5 7 5] , 9 , 5\n",
      "[3 3 1 7 1 9 1 5 7 5]\n"
     ]
    }
   ],
   "source": [
    "import numpy as np\n",
    "\n",
    "a = np.random.randint(10,size=10)\n",
    "\n",
    "print(a,\",\",a[5],\",\",a[-1])\n",
    "\n",
    "a[0]=3\n",
    "print(a)"
   ]
  },
  {
   "cell_type": "code",
   "execution_count": 17,
   "id": "f190796b-1f3c-47c9-a69f-1351d2b53d8b",
   "metadata": {},
   "outputs": [
    {
     "data": {
      "text/plain": [
       "array([3, 3, 1, 7, 1, 9, 1, 5, 7, 5])"
      ]
     },
     "execution_count": 17,
     "metadata": {},
     "output_type": "execute_result"
    }
   ],
   "source": [
    "a"
   ]
  },
  {
   "cell_type": "code",
   "execution_count": 6,
   "id": "052609a5-5f61-49b9-bca8-8e5b3535903e",
   "metadata": {},
   "outputs": [
    {
     "data": {
      "text/plain": [
       "array([[4, 7, 2, 1, 3],\n",
       "       [3, 3, 6, 3, 0],\n",
       "       [1, 5, 5, 4, 4]])"
      ]
     },
     "execution_count": 6,
     "metadata": {},
     "output_type": "execute_result"
    }
   ],
   "source": [
    "import numpy as np\n",
    "\n",
    "b = np.random.randint(8,size= (3,5))\n",
    "b"
   ]
  },
  {
   "cell_type": "code",
   "execution_count": 8,
   "id": "e182487f-c66b-4864-a78e-503d0436a21a",
   "metadata": {},
   "outputs": [
    {
     "name": "stdout",
     "output_type": "stream",
     "text": [
      "[[3 7 0 5 1]\n",
      " [7 7 5 2 3]\n",
      " [3 3 3 0 7]] , 0 , 3\n",
      "\n",
      " [[3 7 0 5 1]\n",
      " [7 7 5 2 9]\n",
      " [3 5 3 0 7]]\n"
     ]
    }
   ],
   "source": [
    "import numpy as np\n",
    "\n",
    "b = np.random.randint(8,size= (3,5))\n",
    "\n",
    "print(b,\",\",b[0,2],\",\",b[1,4])       # iki boyutlu arraylerde elemanlara erişmek için [satır,sütun]\n",
    "\n",
    "b[1,4] = 9\n",
    "b[2,1] = 5.5                         # array'e float bir sayı eklemek istedik kabul etmedi int li halini aldı.Çünkü NumPy Array'in prensibi bu. \n",
    "\n",
    "print(\"\\n\",b)"
   ]
  },
  {
   "cell_type": "markdown",
   "id": "aa187b02-6117-4e7e-a34b-8d2f172fdbcd",
   "metadata": {},
   "source": [
    "## Array Alt Küme İşlemleri (Slicing)"
   ]
  },
  {
   "cell_type": "code",
   "execution_count": 2,
   "id": "1fc3a4e1-c5b5-4cbd-887b-b1baa29db49e",
   "metadata": {},
   "outputs": [
    {
     "name": "stdout",
     "output_type": "stream",
     "text": [
      "[20 21 22 23 24 25 26 27 28 29] \n",
      "\n",
      "[20 21 22] \n",
      "\n",
      "[20 21 22] \n",
      "\n",
      "[22 23 24 25 26 27 28 29] \n",
      "\n",
      "[20 21 22 23 24 25 26 27 28 29] \n",
      "\n",
      "[20 23 26 29] \n",
      "\n",
      "[29 28 27 26 25 24 23 22 21 20]\n"
     ]
    }
   ],
   "source": [
    "import numpy as np\n",
    "a = np.arange(20,30)\n",
    "\n",
    "print(a,\"\\n\")\n",
    "print(a[0:3],\"\\n\")\n",
    "print(a[:3],\"\\n\")\n",
    "print(a[2:],\"\\n\")\n",
    "print(a[:],\"\\n\")\n",
    "print(a[0::3],\"\\n\")\n",
    "print(a[::-1])"
   ]
  },
  {
   "cell_type": "code",
   "execution_count": 4,
   "id": "3795d7ad-450d-4020-b943-2da8aa819d7f",
   "metadata": {},
   "outputs": [
    {
     "name": "stdout",
     "output_type": "stream",
     "text": [
      "[[7 5 0 3 2]\n",
      " [3 2 8 9 2]\n",
      " [9 0 4 7 8]\n",
      " [8 5 7 6 9]\n",
      " [4 1 4 0 5]] \n",
      "\n",
      "\n",
      "[3 9 7 6 0] , [7 3 9 8 4]\n",
      "\n",
      " [7 5 0 3 2] [3 2 8 9 2] [7 5 0 3 2]\n",
      "\n",
      " [[7 5]\n",
      " [3 2]\n",
      " [9 0]\n",
      " [8 5]\n",
      " [4 1]] \n",
      "\n",
      " [[7 5]\n",
      " [3 2]\n",
      " [9 0]]\n"
     ]
    }
   ],
   "source": [
    "import numpy as np\n",
    "\n",
    "b = np.random.randint(10,size= (5,5))\n",
    "\n",
    "print(b,\"\\n\\n\")                     # iki boyutlu arraylerin alt kümelerine ve elemanlarına erişmek için [ , ] yöntemi kullanılır.\n",
    "\n",
    "print(b[:,3],\",\",b[:,0])            # iki boyutlu dizinin sütunlarını almak. [:,x] x: integer değer. buradaki olay satırdaki listeleri alıp her bir listenin x.sütunundaki değeri almak\n",
    "\n",
    "print(\"\\n\",b[0,:],b[1,:],b[0])      # iki boyutlu dizinin satırlarına ulaşmak için\n",
    "\n",
    "print(\"\\n\",b[::,:2],\"\\n\\n\",b[0:3,:2])\n"
   ]
  },
  {
   "cell_type": "markdown",
   "id": "23748d78-54af-4157-aa2c-ae43feb236dc",
   "metadata": {},
   "source": [
    "## Alt Küme Üzerinde İşlem Yapmak"
   ]
  },
  {
   "cell_type": "code",
   "execution_count": 132,
   "id": "5e6a600b-97d2-492f-b8a5-cf373c0d0f00",
   "metadata": {},
   "outputs": [
    {
     "data": {
      "text/plain": [
       "array([[3, 3, 6, 0],\n",
       "       [3, 4, 5, 3],\n",
       "       [0, 0, 0, 3],\n",
       "       [3, 5, 5, 1]])"
      ]
     },
     "execution_count": 132,
     "metadata": {},
     "output_type": "execute_result"
    }
   ],
   "source": [
    "import numpy as np\n",
    "\n",
    "a = np.random.randint(8,size= (4,4))\n",
    "a"
   ]
  },
  {
   "cell_type": "markdown",
   "id": "11ae5bc5-7220-4ecd-92a7-5943834ac531",
   "metadata": {},
   "source": [
    "**Önceki bölümlerde Array alt kümelerinde elemanlarda bazı değişiklikler yaptık.Bu yaptığımız değişiklikler Ana Arrayi de etkiledi yani alt kümelerde yaptığımız değişiklikler sonucunda Ana Array'e değişiklikler de dahil olmuş oldu.Tekrar Arrayı yazdırdığımızda ilk baştaki gibi aynı kalmamış oldu.**\n",
    "> Peki bunu nasıl engelleriz ? Yani Array'in alt küme üzerinde yaptığımız değişiklikler nasıl Ana arraydan bağımsız bir şekilde gerçekleşebilir ?\n",
    "\n",
    "* Bu sorunu **copy()** yöntemiyle çözüyoruz."
   ]
  },
  {
   "cell_type": "code",
   "execution_count": 17,
   "id": "c3090fab-ad2d-48ca-92e4-8f2a718738f1",
   "metadata": {},
   "outputs": [
    {
     "name": "stdout",
     "output_type": "stream",
     "text": [
      "[[1 7 3 6]\n",
      " [5 0 2 1]\n",
      " [3 0 3 6]\n",
      " [6 2 5 6]] \n",
      "\n",
      " [[1 7]\n",
      " [5 0]\n",
      " [3 0]]\n",
      "\n",
      " [[  1 999]\n",
      " [  5   0]\n",
      " [555   0]]\n",
      "\n",
      " [[  1 999   3   6]\n",
      " [  5   0   2   1]\n",
      " [555   0   3   6]\n",
      " [  6   2   5   6]]\n"
     ]
    }
   ],
   "source": [
    "import numpy as np\n",
    "\n",
    "a = np.random.randint(8,size= (4,4))\n",
    "\n",
    "alt_1 = a[0:3,0:2]\n",
    "\n",
    "print(a,\"\\n\\n\",alt_1)\n",
    "\n",
    "alt_1[0,1] = 999\n",
    "alt_1[2,0] = 555\n",
    "\n",
    "print(\"\\n\",alt_1)\n",
    "print(\"\\n\",a)   # a arrrayi , alt_1 ile yaptığımız işlemle beraber değişikliğe uğramıştır ve ilk haldeki çıktıyı vermez.Bunu engellemek için alt_1 ile yapacağımız işlemi copy() yöntemini kulllanrak yapıyoruz."
   ]
  },
  {
   "cell_type": "code",
   "execution_count": 130,
   "id": "e14aba41-8022-47d3-a3ae-8ddb243fe904",
   "metadata": {
    "tags": []
   },
   "outputs": [
    {
     "name": "stdout",
     "output_type": "stream",
     "text": [
      "[[6 4 6 9 7]\n",
      " [4 0 2 5 6]\n",
      " [0 4 3 9 0]\n",
      " [9 0 5 2 1]\n",
      " [1 7 5 6 4]]\n",
      "\n",
      "\n",
      " [[  6 777   6]\n",
      " [  4   0   2]\n",
      " [  0 555   3]]\n",
      "\n",
      "\n",
      " [[6 4 6 9 7]\n",
      " [4 0 2 5 6]\n",
      " [0 4 3 9 0]\n",
      " [9 0 5 2 1]\n",
      " [1 7 5 6 4]]\n"
     ]
    }
   ],
   "source": [
    "import numpy as np\n",
    "\n",
    "b = np.random.randint(10,size= (5,5))\n",
    "print(b)\n",
    "\n",
    "b_alt = b[:3,:3].copy()\n",
    "b_alt[0,1] = 777\n",
    "b_alt[2,1] = 555\n",
    "\n",
    "print(\"\\n\\n\",b_alt)\n",
    "print(\"\\n\\n\",b)\n",
    "\n"
   ]
  },
  {
   "cell_type": "markdown",
   "id": "f8745b71-445f-4286-8499-123a2604ce1c",
   "metadata": {},
   "source": [
    "> Yukarıdaki kodlara bakacak olursak Ana Array , Alt küme işleminden sonra orijinalliğini bozmadı bunun sebebi copy() metodudur.Copy metodunu kullanmasaydık alt küme işleminde yapılan değişiklikler Ana kümeyi de etkileyecekti."
   ]
  },
  {
   "cell_type": "markdown",
   "id": "8c0ced07-18be-4355-b3ca-623bfb0ccba7",
   "metadata": {},
   "source": [
    "## Fancy Index İle Elemanlara Ulaşmak"
   ]
  },
  {
   "cell_type": "code",
   "execution_count": 2,
   "id": "726449c9-124f-4247-815b-edf325d15426",
   "metadata": {
    "tags": []
   },
   "outputs": [
    {
     "name": "stdout",
     "output_type": "stream",
     "text": [
      "[10 13 16 19 22 25 28] , [10 16 28]\n"
     ]
    }
   ],
   "source": [
    "# TEK BOYUTLULAR DA FANCY INDEX\n",
    "\n",
    "# Fancy indexing, bir array ya da DataFrame içine bir indis listesi konularak o listedeki indislerin seçilmesidir.\n",
    "\n",
    "import numpy as np\n",
    "\n",
    "a = np.arange(10,30,3)\n",
    "elemanı_al = [0,2,6]\n",
    "\n",
    "print(a,\",\",a[elemanı_al])  # bunu [a[0],a[2],a[6]] ile de yapabilirdin ama verisayısı fazla ve birçok veri almak isteseydin 'Fancy Index' yöntemi daha pratik olurdu. "
   ]
  },
  {
   "cell_type": "code",
   "execution_count": 12,
   "id": "f7a4178c-8896-4c5d-87ec-dbb5427cedaf",
   "metadata": {},
   "outputs": [],
   "source": [
    "# İKİ BOYUTLULARDA FANCY INDEX"
   ]
  },
  {
   "cell_type": "code",
   "execution_count": 13,
   "id": "dddf17d8-cd82-41c5-81a1-6006aff06f51",
   "metadata": {},
   "outputs": [
    {
     "name": "stdout",
     "output_type": "stream",
     "text": [
      "[[0 1 2]\n",
      " [3 4 5]\n",
      " [6 7 8]] \n",
      "\n",
      "\n",
      " fancy Index:  [1 5]\n"
     ]
    }
   ],
   "source": [
    "import numpy as np\n",
    "\n",
    "a = np.arange(9).reshape((3,3))\n",
    "\n",
    "satirolsun = np.array([0,1])\n",
    "sutunolsun = np.array([1,2])\n",
    ",\n",
    "print(a,\"\\n\\n\\n\",\"fancy Index: \",a[satirolsun,sutunolsun])"
   ]
  },
  {
   "cell_type": "code",
   "execution_count": 14,
   "id": "9a19f1e2-9ce5-499d-a1a2-11178ca6a95a",
   "metadata": {},
   "outputs": [
    {
     "name": "stdout",
     "output_type": "stream",
     "text": [
      "[[ 0  1  2]\n",
      " [ 3  4  5]\n",
      " [ 6  7  8]\n",
      " [ 9 10 11]\n",
      " [12 13 14]] \n",
      "\n",
      " fancy Index:  [6 7]\n"
     ]
    }
   ],
   "source": [
    "import numpy as np\n",
    "\n",
    "a = np.arange(15).reshape((5,3))\n",
    "print(a,\"\\n\\n\", \"fancy Index: \",a[2, [0,1]])"
   ]
  }
 ],
 "metadata": {
  "kernelspec": {
   "display_name": "Python 3 (ipykernel)",
   "language": "python",
   "name": "python3"
  },
  "language_info": {
   "codemirror_mode": {
    "name": "ipython",
    "version": 3
   },
   "file_extension": ".py",
   "mimetype": "text/x-python",
   "name": "python",
   "nbconvert_exporter": "python",
   "pygments_lexer": "ipython3",
   "version": "3.9.13"
  }
 },
 "nbformat": 4,
 "nbformat_minor": 5
}
