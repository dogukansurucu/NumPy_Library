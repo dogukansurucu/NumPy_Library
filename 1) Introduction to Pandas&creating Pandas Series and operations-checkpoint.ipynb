{
 "cells": [
  {
   "cell_type": "markdown",
   "id": "34442d8d-384d-4c47-a9c6-87f283714c74",
   "metadata": {},
   "source": [
    "## Pandas'a Giriş - Pandası Tanıyalım"
   ]
  },
  {
   "cell_type": "markdown",
   "id": "7b7ae531-a381-4151-ac19-e916585a1d97",
   "metadata": {},
   "source": [
    "* Pandas, **güçlü veri yapılarını kullanarak** yüksek performanslı **veri işleme ve analiz aracı sağlayan** açık kaynaklı bir Python Kitaplığıdır.\n",
    "\n",
    "* **‘.csv’ ve ‘.txt’ dosyalarını** açmak ve içerisinde bulunan verileri okuyarak istenen sonuca kolayca ulaşmak için kullanılmaktadır. Ayrıca Pandas sayesinde bir **excel dosyasını açarak** içerisinde bulunan bir sütunu veya satırı seçip **işlem yapabiliriz.**\n",
    "\n",
    "* Pandas’da verileri kolay analiz etmek için bazı veri yapıları vardır. Bunlardan en çok kullanılanları **Series ve DataFrame veri yapılarıdır.**"
   ]
  },
  {
   "cell_type": "markdown",
   "id": "75a081d1-aa72-407f-9f27-a1b3ca9841eb",
   "metadata": {},
   "source": [
    "<span style='color:green'>**ÖNEMLİ**</span>\n",
    "> Yaygın olarak kullanılan iki metin dosyası biçimi vardır:\n",
    "Sınırlandırılmış metin dosyaları (.txt) ve içinde SEKME karakteri (ASCII karakter kodu 009) genellikle her metin alanını birbirinden ayırandır.\n",
    "Virgülle ayrılmış değerler metin dosyaları (.csv) ve içinde virgül karakteri (,) genellikle metin her alanını birbirinden ayrılır."
   ]
  },
  {
   "cell_type": "markdown",
   "id": "798b4d5c-49aa-409b-b0c1-474c35a6faa7",
   "metadata": {},
   "source": [
    "> <span style='color:green'>**PANDASIN ÖZELLİKLERİ**</span>\n",
    "\n",
    "* İndeksli DataFrame (veri iskeleti) objeleri ile veri işlemesi yapabilmek.\n",
    "* Hafızadaki veya farklı türlerde bulunan veriyi okuyabilmek ve yazabilmek için araçlar sağlamak.\n",
    "* Veri sıralama ve bütünleşik kayıp veri senaryolarına karşı esnek imkanlar sunması.\n",
    "* Veri setlerinin tekrar boyutlandırılması veya döndürülmesi.\n",
    "* Etiket bazlı dilimleme, özel indeksleme ve büyük veri setlerini ayrıştırma özelliği.\n",
    "* Veri iskeletine sütun ekleme veya var olan sütunu çıkarma.\n",
    "* Veri gruplama özelliği ile ayırma-uygulama-birleştirme uygulamalarının yapılabilmesi.\n",
    "* Veri setlerinin birleştirilmesi ve birbirine eklenmesi.\n",
    "* Hiyerarşik eksenleri indeksleme özelliğiyle birlikte çok boyutlu veriden, daha az boyutlu veri elde edilebilmesi.\n",
    "* Zaman serisi özelliği: Zaman aralığı oluşturma[4] ve sıklık çevrimleri yapma, hareketli aralık istatistik fonksiyonları, tarih öteleme ve geciktirme.\n",
    "* Veri filtrelemesi yapabilmek."
   ]
  },
  {
   "cell_type": "code",
   "execution_count": 9,
   "id": "6b0872f2-2a35-4f0e-8655-c63b5f029b31",
   "metadata": {},
   "outputs": [],
   "source": [
    "# Pandas kütüphanesini kullanmamız için import etmemiz lazım.\n",
    "import pandas as pd"
   ]
  },
  {
   "cell_type": "markdown",
   "id": "063757be-aa15-4774-a5b7-ff6cdfea081a",
   "metadata": {
    "tags": []
   },
   "source": [
    "## Pandas Serisi Oluşturmak"
   ]
  },
  {
   "cell_type": "code",
   "execution_count": 1,
   "id": "c2921784-de3b-42e2-8459-e0601b023170",
   "metadata": {
    "tags": []
   },
   "outputs": [
    {
     "name": "stdout",
     "output_type": "stream",
     "text": [
      "0     5\n",
      "1    10\n",
      "2    15\n",
      "3    20\n",
      "4    25\n",
      "dtype: int64 \n",
      "\n",
      " <class 'pandas.core.series.Series'> , [RangeIndex(start=0, stop=5, step=1)] , int64 , 5 , 1 , [ 5 10 15 20 25]\n"
     ]
    }
   ],
   "source": [
    "import pandas as pd\n",
    "\n",
    "seri = pd.Series([5,10,15,20,25])\n",
    "\n",
    "print(seri,\"\\n\\n\",type(seri),\",\",seri.axes,\",\",seri.dtype,\",\",seri.size,\",\",seri.ndim,\",\",seri.values)"
   ]
  },
  {
   "cell_type": "code",
   "execution_count": 2,
   "id": "f9e255d0-971d-493f-b5ab-299907d2155a",
   "metadata": {},
   "outputs": [
    {
     "name": "stdout",
     "output_type": "stream",
     "text": [
      "0     9\n",
      "1    12\n",
      "2    15\n",
      "3    18\n",
      "4    21\n",
      "dtype: int64 \n",
      " ---------- \n",
      " 0     9\n",
      "1    12\n",
      "2    15\n",
      "dtype: int64 \n",
      " ----------\n",
      "3    18\n",
      "4    21\n",
      "dtype: int64 \n",
      " ----------\n",
      "5    11\n",
      "6    22\n",
      "7    33\n",
      "8    44\n",
      "9    55\n",
      "dtype: int64 \n",
      " ---------- \n",
      " a     2\n",
      "b     4\n",
      "c     6\n",
      "d     8\n",
      "e    10\n",
      "dtype: int64\n"
     ]
    }
   ],
   "source": [
    "import pandas as pd\n",
    "\n",
    "seri = pd.Series([9,12,15,18,21])\n",
    "\n",
    "print(seri,\"\\n\",5*('--'),\"\\n\",seri.head(3),\"\\n\",5*('--'))    # head = Pandas Series ve DataFrame'lerinde elimizdeki verinin ilk n satırındaki gözlem değerlerine ulaşmak için head() fonksiyonunu kullanırız.\n",
    "\n",
    "print(seri.tail(2),\"\\n\",5*('--'))                            # tail = bu yöntem de elimizdeki verinin sondan n satırın gözlem değerlerine ulaşmak için kullanılır.\n",
    "\n",
    "seri_index_degistirme = pd.Series([11,22,33,44,55], index = [5,6,7,8,9])    # pandas serisinin index numaralarını değiştirme\n",
    "\n",
    "seri_index_degistirme_str = pd.Series([2,4,6,8,10], index = [\"a\",\"b\",\"c\",\"d\",\"e\"])\n",
    "\n",
    "print(seri_index_degistirme,\"\\n\",5*('--'),\"\\n\",seri_index_degistirme_str)"
   ]
  },
  {
   "cell_type": "code",
   "execution_count": 2,
   "id": "79c4d07f-b452-49c0-b407-02febab217d9",
   "metadata": {},
   "outputs": [
    {
     "name": "stdout",
     "output_type": "stream",
     "text": [
      "0     99\n",
      "1    100\n",
      "2    101\n",
      "3    102\n",
      "4    103\n",
      "dtype: int64 \n",
      "\n",
      " 99 , 103 \n",
      "\n",
      " 0     99\n",
      "1    100\n",
      "2    101\n",
      "dtype: int64\n",
      "\n",
      " 4 \n",
      "\n",
      "8 \n",
      "\n",
      "a    4\n",
      "b    5\n",
      "c    6\n",
      "d    7\n",
      "e    8\n",
      "dtype: int64\n"
     ]
    }
   ],
   "source": [
    "import pandas as pd\n",
    "\n",
    "seri = pd.Series([99,100,101,102,103])\n",
    "\n",
    "print(seri,\"\\n\\n\",seri[0],\",\",seri[4],\"\\n\\n\",seri[0:3])               # gözlem değerlerine ulaşma\n",
    "\n",
    "seri_str = pd.Series([4,5,6,7,8], index = [\"a\",\"b\",\"c\",\"d\",\"e\"])\n",
    "\n",
    "print(\"\\n\",seri_str[\"a\"],\"\\n\")\n",
    "print(seri_str[\"e\"],\"\\n\")\n",
    "print(seri_str[\"a\":\"e\"])  #şuana kadarki bilgilerle normalde \"e\" indeksi dahil olmaması gerekir ama pandas indeks tipi str ise son indeks de dahil olur."
   ]
  },
  {
   "cell_type": "code",
   "execution_count": 2,
   "id": "d522862d-0bbc-408a-809f-67dcfb4baa16",
   "metadata": {},
   "outputs": [
    {
     "name": "stdout",
     "output_type": "stream",
     "text": [
      "doğukan     80\n",
      "batuhan     70\n",
      "zeynep      90\n",
      "mehmet     100\n",
      "gülsen     110\n",
      "dtype: int64 \n",
      "\n",
      " <bound method Series.keys of doğukan     80\n",
      "batuhan     70\n",
      "zeynep      90\n",
      "mehmet     100\n",
      "gülsen     110\n",
      "dtype: int64> \n",
      "\n",
      " [ 80  70  90 100 110] \n",
      "\n",
      " [('doğukan', 80), ('batuhan', 70), ('zeynep', 90), ('mehmet', 100), ('gülsen', 110)]\n"
     ]
    }
   ],
   "source": [
    "#Sözlük üzerinden liste oluşturma\n",
    "import pandas as pd\n",
    "\n",
    "a = pd.Series({\"doğukan\":80,\"batuhan\":70,\"zeynep\":90,\"mehmet\":100,\"gülsen\":110})\n",
    "\n",
    "print(a,\"\\n\\n\",a.keys,\"\\n\\n\",a.values,\"\\n\\n\",list(a.items()))"
   ]
  },
  {
   "cell_type": "code",
   "execution_count": 18,
   "id": "f4315916-472e-4081-a901-c69bd6471a7a",
   "metadata": {},
   "outputs": [
    {
     "name": "stdout",
     "output_type": "stream",
     "text": [
      "0     99\n",
      "1    100\n",
      "2    101\n",
      "0     99\n",
      "1    100\n",
      "2    101\n",
      "dtype: int64\n"
     ]
    }
   ],
   "source": [
    "#İki seriyi birleştirme\n",
    "import pandas as pd\n",
    "\n",
    "a = pd.Series([99,100,101])\n",
    "print(pd.concat([a,a]))"
   ]
  },
  {
   "cell_type": "code",
   "execution_count": 159,
   "id": "23c902d1-3d20-4b5d-8237-5eb553c0647a",
   "metadata": {},
   "outputs": [
    {
     "data": {
      "text/plain": [
       "100     5\n",
       "101     5\n",
       "102    15\n",
       "103     4\n",
       "104     4\n",
       "105     8\n",
       "106     8\n",
       "107    12\n",
       "108    11\n",
       "109    15\n",
       "110    16\n",
       "111    14\n",
       "112     7\n",
       "113    19\n",
       "114     3\n",
       "115    12\n",
       "116     6\n",
       "117     9\n",
       "118     8\n",
       "119     4\n",
       "120    13\n",
       "121    12\n",
       "122    16\n",
       "123    16\n",
       "124    17\n",
       "125     7\n",
       "126    10\n",
       "127     5\n",
       "128     9\n",
       "129    16\n",
       "130    13\n",
       "131    14\n",
       "132     9\n",
       "133    15\n",
       "134     4\n",
       "135    19\n",
       "136     3\n",
       "137    13\n",
       "138    15\n",
       "139    12\n",
       "dtype: int32"
      ]
     },
     "execution_count": 159,
     "metadata": {},
     "output_type": "execute_result"
    }
   ],
   "source": [
    "import numpy as np\n",
    "\n",
    "a = np.random.randint(3,20,size=40)\n",
    "b = pd.Series(a, index = [i for i in range(100,140)])\n",
    "b"
   ]
  },
  {
   "cell_type": "markdown",
   "id": "2c660c26-ddc6-491f-af65-be174729c00e",
   "metadata": {},
   "source": [
    "## Pandas Series Eleman İşlemleri"
   ]
  },
  {
   "cell_type": "code",
   "execution_count": 3,
   "id": "14d176bc-32ab-4168-8353-8f7dce54b37d",
   "metadata": {},
   "outputs": [
    {
     "name": "stdout",
     "output_type": "stream",
     "text": [
      "0    44\n",
      "1    55\n",
      "2    66\n",
      "3     a\n",
      "dtype: object \n",
      "\n",
      " 0    44\n",
      "1    55\n",
      "2    66\n",
      "dtype: object\n"
     ]
    }
   ],
   "source": [
    "import numpy as np\n",
    "\n",
    "a = np.array([44,55,66,'a'])\n",
    "b = pd.Series(a)\n",
    "\n",
    "print(b,\"\\n\\n\",b[0:3])"
   ]
  },
  {
   "cell_type": "code",
   "execution_count": 8,
   "id": "4e5bf5a6-300e-45aa-b27b-679e00c91893",
   "metadata": {},
   "outputs": [
    {
     "name": "stdout",
     "output_type": "stream",
     "text": [
      "Index(['reg', 'loj', 'cart', 'rf'], dtype='object')\n",
      "\n",
      " [121 200 150  99]\n",
      "\n",
      " <bound method Series.keys of reg     121\n",
      "loj     200\n",
      "cart    150\n",
      "rf       99\n",
      "dtype: int64>\n",
      "\n",
      " [('reg', 121), ('loj', 200), ('cart', 150), ('rf', 99)]\n",
      "\n",
      " True\n",
      "\n",
      " rf      99\n",
      "reg    121\n",
      "dtype: int64\n",
      "\n",
      " reg      30\n",
      "loj     200\n",
      "cart    150\n",
      "rf       99\n",
      "dtype: int64 \n",
      "\n",
      " 30\n",
      "\n",
      " reg      30\n",
      "loj     200\n",
      "cart    150\n",
      "dtype: int64\n"
     ]
    }
   ],
   "source": [
    "import pandas as pd\n",
    "\n",
    "seri = pd.Series([121,200,150,99],index = [\"reg\",\"loj\",\"cart\",\"rf\"])\n",
    "\n",
    "print(seri.index)\n",
    "print(\"\\n\",seri.values)\n",
    "print(\"\\n\",seri.keys)\n",
    "print(\"\\n\",list(seri.items()))\n",
    "print(\"\\n\",\"reg\" in seri)  \n",
    "print(\"\\n\", seri[[\"rf\",\"reg\"]])   # fancy eleman\n",
    "seri[\"reg\"]=30\n",
    "print(\"\\n\",seri,\"\\n\\n\",seri[\"reg\"])\n",
    "print(\"\\n\",seri[\"reg\":\"cart\"])"
   ]
  }
 ],
 "metadata": {
  "kernelspec": {
   "display_name": "Python 3 (ipykernel)",
   "language": "python",
   "name": "python3"
  },
  "language_info": {
   "codemirror_mode": {
    "name": "ipython",
    "version": 3
   },
   "file_extension": ".py",
   "mimetype": "text/x-python",
   "name": "python",
   "nbconvert_exporter": "python",
   "pygments_lexer": "ipython3",
   "version": "3.9.13"
  }
 },
 "nbformat": 4,
 "nbformat_minor": 5
}
