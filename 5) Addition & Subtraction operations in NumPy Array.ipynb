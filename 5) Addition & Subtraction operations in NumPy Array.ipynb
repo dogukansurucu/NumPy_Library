{
 "cells": [
  {
   "cell_type": "markdown",
   "id": "f7567b2a-8a02-4a7c-9ee8-88f2de7a98f4",
   "metadata": {
    "tags": []
   },
   "source": [
    "## Numpy Array'de Ekleme/Silme İşlemleri"
   ]
  },
  {
   "cell_type": "code",
   "execution_count": 3,
   "id": "f27b1d5a-1a28-450b-90d7-199513e92592",
   "metadata": {},
   "outputs": [
    {
     "data": {
      "text/plain": [
       "array([1, 2, 3, 4, 5, 6, 8])"
      ]
     },
     "execution_count": 3,
     "metadata": {},
     "output_type": "execute_result"
    }
   ],
   "source": [
    "# Tek boyutlu arrraylerde ekleme işlemi\n",
    "\n",
    "import numpy as np\n",
    "\n",
    "a = np.array([1,2,3,4,5,6])\n",
    "np.append(a,8)"
   ]
  },
  {
   "cell_type": "code",
   "execution_count": 2,
   "id": "0c4cb9c9-ac57-4941-aa7a-fda7746f3c5c",
   "metadata": {},
   "outputs": [
    {
     "data": {
      "text/plain": [
       "array([1, 2, 3, 4, 5, 6])"
      ]
     },
     "execution_count": 2,
     "metadata": {},
     "output_type": "execute_result"
    }
   ],
   "source": [
    "a"
   ]
  },
  {
   "cell_type": "code",
   "execution_count": 4,
   "id": "07e63885-c393-4fac-bd34-fee14a34ce20",
   "metadata": {},
   "outputs": [
    {
     "data": {
      "text/plain": [
       "[1, 2, 3, 4, 5, 6, 9]"
      ]
     },
     "execution_count": 4,
     "metadata": {},
     "output_type": "execute_result"
    }
   ],
   "source": [
    "b = [1,2,3,4,5,6]\n",
    "b.append(9)\n",
    "b"
   ]
  },
  {
   "cell_type": "code",
   "execution_count": 5,
   "id": "d0fac9a2-5621-4da2-afbc-57f66bc5a4e2",
   "metadata": {},
   "outputs": [
    {
     "data": {
      "text/plain": [
       "[1, 2, 3, 4, 5, 6, 9]"
      ]
     },
     "execution_count": 5,
     "metadata": {},
     "output_type": "execute_result"
    }
   ],
   "source": [
    "b"
   ]
  },
  {
   "cell_type": "code",
   "execution_count": null,
   "id": "62877a1b-b8c4-49e3-bbde-b39ead18263c",
   "metadata": {},
   "outputs": [],
   "source": [
    "\"\"\"\n",
    "Önceki uygulamalarda da burada da görüldüğü üzere python nesnesi gibi davranışlar sergileyen kod blokları sonucu ana veri sonraki satırlarda değişikliğe uğrarken,\n",
    "numpy içerisinde yer alan metod ana veriyi sadece o satır için değiştirmiş olur. Sonraki satırlarda ana veri korunur.örneğin np.sort ile veri sıralanırken ana dizi korunur.\n",
    "list.sort ile veri sıralanır fakat ana dizi böylelikle değişmiş olur.\n",
    "\"\"\""
   ]
  },
  {
   "cell_type": "code",
   "execution_count": 78,
   "id": "6168fa15-ed9b-488f-8b46-b0e5ff49d42d",
   "metadata": {},
   "outputs": [
    {
     "data": {
      "text/plain": [
       "array([  1,   2,   3, 999,   4,   5,   6])"
      ]
     },
     "execution_count": 78,
     "metadata": {},
     "output_type": "execute_result"
    }
   ],
   "source": [
    "np.insert(a,3,999)"
   ]
  },
  {
   "cell_type": "code",
   "execution_count": 3,
   "id": "81851048-93f0-452c-93f4-1300380c312d",
   "metadata": {},
   "outputs": [
    {
     "name": "stdout",
     "output_type": "stream",
     "text": [
      "[[12  7  3]\n",
      " [ 5 15  2]\n",
      " [14 15 15]] \n",
      "\n"
     ]
    },
    {
     "data": {
      "text/plain": [
       "array([[12,  7,  3],\n",
       "       [ 5, 15,  2],\n",
       "       [14, 15, 15],\n",
       "       [ 1,  2,  3]])"
      ]
     },
     "execution_count": 3,
     "metadata": {},
     "output_type": "execute_result"
    }
   ],
   "source": [
    "# iki boyutlu arraylerde ekleme işlemi\n",
    "\n",
    "import numpy as np\n",
    "\n",
    "b = np.random.randint(2,20,(3,3))\n",
    "c = np.array([[1,2,3]])\n",
    "\n",
    "print(b,\"\\n\")\n",
    "np.append(b,c,0)          #satır bazında"
   ]
  },
  {
   "cell_type": "code",
   "execution_count": 92,
   "id": "824b768c-d9ac-43e6-abb6-ed67470f0ece",
   "metadata": {},
   "outputs": [
    {
     "data": {
      "text/plain": [
       "array([[10,  9, 13,  1],\n",
       "       [ 2,  3,  3,  2],\n",
       "       [ 4,  9,  2,  3]])"
      ]
     },
     "execution_count": 92,
     "metadata": {},
     "output_type": "execute_result"
    }
   ],
   "source": [
    "d = np.array([[1],[2],[3]])\n",
    "np.append(b,d,1)         #sütun bazında"
   ]
  },
  {
   "cell_type": "code",
   "execution_count": 88,
   "id": "4ac8f35c-66c8-4146-8c31-68d1f7d34ae1",
   "metadata": {},
   "outputs": [
    {
     "data": {
      "text/plain": [
       "array([1, 2, 4, 5, 6])"
      ]
     },
     "execution_count": 88,
     "metadata": {},
     "output_type": "execute_result"
    }
   ],
   "source": [
    "# numpy.delete(arr, obj, axis=None) , None = 0 or 1.  axis=0 satır , axis=1 sütun üzerinden işlem yapmamızı sağlıyordu.\n",
    "\n",
    "# tek boyutlu arrayde silme işlemi\n",
    "import numpy as np\n",
    "\n",
    "a = np.array([1,2,3,4,5,6])\n",
    "np.delete(a,2)"
   ]
  },
  {
   "cell_type": "code",
   "execution_count": 3,
   "id": "2cc317a2-63b6-4842-a954-28e14e4dfecd",
   "metadata": {},
   "outputs": [
    {
     "name": "stdout",
     "output_type": "stream",
     "text": [
      "[[ 1  2  3  4]\n",
      " [ 5  6  7  8]\n",
      " [ 9 10 11 12]] \n",
      "\n"
     ]
    },
    {
     "data": {
      "text/plain": [
       "array([[ 1,  2,  3,  4],\n",
       "       [ 9, 10, 11, 12]])"
      ]
     },
     "execution_count": 3,
     "metadata": {},
     "output_type": "execute_result"
    }
   ],
   "source": [
    "# iki boyutlu arrayde silme işlemi\n",
    "import numpy as np\n",
    "\n",
    "arr = np.array([[1,2,3,4], [5,6,7,8], [9,10,11,12]])\n",
    "print(arr,\"\\n\")\n",
    "np.delete(arr, 1, 0)  #satır üzerinden silme işlemi yaptık."
   ]
  },
  {
   "cell_type": "code",
   "execution_count": 4,
   "id": "6eeabc0c-ebe9-4964-b653-f02ec250cf9c",
   "metadata": {},
   "outputs": [
    {
     "data": {
      "text/plain": [
       "array([[ 1,  2,  4],\n",
       "       [ 5,  6,  8],\n",
       "       [ 9, 10, 12]])"
      ]
     },
     "execution_count": 4,
     "metadata": {},
     "output_type": "execute_result"
    }
   ],
   "source": [
    "np.delete(arr,2,1)  # sütun üzerinden silme işlemi yaparak 3.sütunu sildik."
   ]
  },
  {
   "cell_type": "code",
   "execution_count": 23,
   "id": "4e16688e-fba2-4624-b30c-3e0aeb9ecbf9",
   "metadata": {},
   "outputs": [
    {
     "data": {
      "text/plain": [
       "array([[ 2,  4],\n",
       "       [ 6,  8],\n",
       "       [10, 12]])"
      ]
     },
     "execution_count": 23,
     "metadata": {},
     "output_type": "execute_result"
    }
   ],
   "source": [
    "np.delete(arr, np.s_[::2], 1)  #sütun üzerinden silme işlemini yaptık."
   ]
  },
  {
   "cell_type": "code",
   "execution_count": 24,
   "id": "18bedd56-0c30-44be-bde3-56b84223c21a",
   "metadata": {},
   "outputs": [
    {
     "data": {
      "text/plain": [
       "array([ 1,  3,  5,  7,  8,  9, 10, 11, 12])"
      ]
     },
     "execution_count": 24,
     "metadata": {},
     "output_type": "execute_result"
    }
   ],
   "source": [
    "np.delete(arr, [1,3,5], None)"
   ]
  }
 ],
 "metadata": {
  "kernelspec": {
   "display_name": "Python 3 (ipykernel)",
   "language": "python",
   "name": "python3"
  },
  "language_info": {
   "codemirror_mode": {
    "name": "ipython",
    "version": 3
   },
   "file_extension": ".py",
   "mimetype": "text/x-python",
   "name": "python",
   "nbconvert_exporter": "python",
   "pygments_lexer": "ipython3",
   "version": "3.9.13"
  }
 },
 "nbformat": 4,
 "nbformat_minor": 5
}
