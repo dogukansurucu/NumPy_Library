{
 "cells": [
  {
   "cell_type": "markdown",
   "id": "cf3552b1-8f08-489c-8ff9-f36d39f02220",
   "metadata": {},
   "source": [
    "## Koşullu Eleman İşlemleri"
   ]
  },
  {
   "cell_type": "code",
   "execution_count": 1,
   "id": "8f0c4479-0b6b-4335-906b-120c79807bb2",
   "metadata": {},
   "outputs": [
    {
     "name": "stdout",
     "output_type": "stream",
     "text": [
      "[ True False False False False]\n",
      "[ True  True False False False]\n",
      "[False False  True  True  True]\n",
      "[2] , [4 5 6] , [3] , [2 4 5 6]\n",
      "[ 4  6  8 10 12]\n",
      "[1.  1.5 2.  2.5 3. ]\n",
      "[4 5 6 7 8]\n",
      "[-3 -2 -1  0  1]\n",
      "[0 1 0 1 0]\n",
      "[1 1 2 2 3]\n"
     ]
    }
   ],
   "source": [
    "import numpy as np\n",
    "a = np.array([2,3,4,5,6])\n",
    "\n",
    "print(a<3)\n",
    "print(a<=3)\n",
    "print(a>3)\n",
    "print(a[a<3],\",\",a[a>3],\",\",a[a==3],\",\",a[a!=3])  # fancy yöntemi var.\n",
    "print(a*2)\n",
    "print(a/2)\n",
    "print(a+2)\n",
    "print(a-5)\n",
    "print(a%2)\n",
    "print(a//2)"
   ]
  },
  {
   "cell_type": "markdown",
   "id": "702107a1-5382-48be-ab72-89e7de4977f8",
   "metadata": {},
   "source": [
    "## Matematiksel İşlemler"
   ]
  },
  {
   "cell_type": "code",
   "execution_count": 7,
   "id": "802a5576-a68c-4920-aabf-f05e6afac220",
   "metadata": {},
   "outputs": [
    {
     "name": "stdout",
     "output_type": "stream",
     "text": [
      "[  9 -11  19  21] \n",
      "\n",
      "[  7 -13  17  19] \n",
      "\n",
      "[ 4. -6.  9. 10.] \n",
      "\n",
      "[0 0 0 0] \n",
      "\n",
      "[ 64 144 324 400] \n",
      "\n",
      "\n",
      "\n",
      "\n",
      "[2.82842712        nan 4.24264069 4.47213595] \n",
      "\n",
      "[20  0 30 32] \n",
      "\n",
      "[  3 -17  13  15] \n",
      "\n",
      "[ 16 -24  36  40] \n",
      "\n",
      "[ 2.66666667 -4.          6.          6.66666667] \n",
      "\n",
      "[ 64 144 324 400] \n",
      "\n",
      "[[ 8 12 18 20]] \n",
      "\n",
      "\n",
      "\n",
      " 0.49999999999999994 , 0.0015926529164868282 -0.9524129804151563\n",
      "\n",
      " [0.         0.69314718 1.09861229] , [0.        1.        1.5849625]  [0.         0.30103    0.47712125]\n"
     ]
    }
   ],
   "source": [
    "import numpy as np\n",
    "\n",
    "import warnings                      #Python'dan kaynaklı hataları kapatmak için:\n",
    "warnings.filterwarnings(\"ignore\") \n",
    "\n",
    "a = np.array([8,-12,18,20])\n",
    "\n",
    "print(a+1,\"\\n\")\n",
    "print(a-1,\"\\n\")\n",
    "print(a/2,\"\\n\")\n",
    "print(a%2,\"\\n\")\n",
    "print(a**2,\"\\n\")\n",
    "\n",
    "b = np.add(a,12)\n",
    "c = np.subtract(a,5)\n",
    "d = np.multiply(a,2)\n",
    "e = np.divide(a,3)\n",
    "f = np.power(a,2)\n",
    "g = np.absolute([a])\n",
    "h = np.sqrt(a)\n",
    "\n",
    "print(\"\\n\\n\")                   # temel işlemler\n",
    "print(h,\"\\n\")     \n",
    "print(b,\"\\n\")\n",
    "print(c,\"\\n\")\n",
    "print(d,\"\\n\")\n",
    "print(e,\"\\n\")\n",
    "print(f,\"\\n\")\n",
    "print(g,\"\\n\")\n",
    "\n",
    "print(\"\\n\\n\",np.sin(np.radians(30)),\",\",np.sin(3.14),np.cos(60))          #trigonometrik ifadeler normalde radyan cinsinden alıyor.dereceye çevirip sinüs/cosinüsünü almak istersek np.sin(np.radians()) gibi yapabiliriz.\n",
    "\n",
    "h = np.array([1,2,3])\n",
    "print(\"\\n\",np.log(h),\",\",np.log2(h),\"\",np.log10(h))  #logaritmik ifadeler"
   ]
  },
  {
   "cell_type": "markdown",
   "id": "49e1cba9-13e2-48fb-932a-7352d677217f",
   "metadata": {
    "tags": []
   },
   "source": [
    "## İstatistiksel Hesaplamalar"
   ]
  },
  {
   "cell_type": "code",
   "execution_count": 3,
   "id": "668e7866-20b2-4d11-8cc8-3fe31c1fd2fd",
   "metadata": {},
   "outputs": [
    {
     "name": "stdout",
     "output_type": "stream",
     "text": [
      "ortalama: 4.5\n",
      "toplam: 18\n",
      "min: 3 max: 6\n",
      "varyans: 1.25\n",
      "standart sapma: 1.118033988749895\n",
      "Pearson çarpıklık katsayısı: 1.0\n"
     ]
    }
   ],
   "source": [
    "import numpy as np\n",
    "\n",
    "a= np.array([3,4,5,6])\n",
    "\n",
    "print(\"ortalama:\",np.mean(a,axis=0))\n",
    "print(\"toplam:\",np.sum(a))\n",
    "print(\"min:\",np.min(a),\"max:\",np.max(a))\n",
    "print(\"varyans:\",np.var(a))\n",
    "print(\"standart sapma:\",np.std(a))\n",
    "print(\"Pearson çarpıklık katsayısı:\",np.corrcoef(a))"
   ]
  },
  {
   "cell_type": "markdown",
   "id": "9dc59bb0-8a65-4e82-a350-f757ea0f6533",
   "metadata": {},
   "source": [
    "##  Numpy İle İki Bilinmeyenli Denklem Çözümü"
   ]
  },
  {
   "cell_type": "markdown",
   "id": "804c387a-e885-4c45-87d3-d480ba45c930",
   "metadata": {},
   "source": [
    "5*x0 + x1 = 20"
   ]
  },
  {
   "cell_type": "markdown",
   "id": "976b5da4-4242-4280-95fd-a363f5eb3be8",
   "metadata": {},
   "source": [
    "x0 + 4*x1 = 14"
   ]
  },
  {
   "cell_type": "code",
   "execution_count": 4,
   "id": "a448d4f2-49c3-4cb3-adcb-919e5e539315",
   "metadata": {},
   "outputs": [
    {
     "name": "stdout",
     "output_type": "stream",
     "text": [
      "[[3 7]\n",
      " [5 1]]\n"
     ]
    },
    {
     "data": {
      "text/plain": [
       "array([5.78125, 1.09375])"
      ]
     },
     "execution_count": 4,
     "metadata": {},
     "output_type": "execute_result"
    }
   ],
   "source": [
    "import numpy as np\n",
    "\n",
    "a = np.array([[3,7],[5,1]])\n",
    "b = np.array([25,30])\n",
    "\n",
    "print(a)\n",
    "\n",
    "bilinmeyenleri_bul = np.linalg.solve(a,b)\n",
    "bilinmeyenleri_bul"
   ]
  },
  {
   "cell_type": "markdown",
   "id": "9b6f990e-0c27-45a6-9ad5-4389c6163816",
   "metadata": {},
   "source": [
    "**dışarıdan bir metin dosyasından veri yükleme**"
   ]
  },
  {
   "cell_type": "code",
   "execution_count": 1,
   "id": "4594078c-656c-4e88-b199-cae60734b0fc",
   "metadata": {},
   "outputs": [
    {
     "data": {
      "text/plain": [
       "array([[1., 2., 3., 4.],\n",
       "       [5., 6., 8., 9.],\n",
       "       [7., 8., 5., 4.]])"
      ]
     },
     "execution_count": 1,
     "metadata": {},
     "output_type": "execute_result"
    }
   ],
   "source": [
    "import numpy as np\n",
    "np.loadtxt(\"matrix.txt\")"
   ]
  }
 ],
 "metadata": {
  "kernelspec": {
   "display_name": "Python 3 (ipykernel)",
   "language": "python",
   "name": "python3"
  },
  "language_info": {
   "codemirror_mode": {
    "name": "ipython",
    "version": 3
   },
   "file_extension": ".py",
   "mimetype": "text/x-python",
   "name": "python",
   "nbconvert_exporter": "python",
   "pygments_lexer": "ipython3",
   "version": "3.9.13"
  }
 },
 "nbformat": 4,
 "nbformat_minor": 5
}
