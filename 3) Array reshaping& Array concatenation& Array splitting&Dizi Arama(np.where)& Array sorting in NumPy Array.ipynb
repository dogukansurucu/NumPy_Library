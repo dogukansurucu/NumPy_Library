{
 "cells": [
  {
   "cell_type": "markdown",
   "id": "011be0fb-8131-47e0-8158-7fdca09c9cb5",
   "metadata": {
    "tags": []
   },
   "source": [
    "## Yeniden Şekillendirme (reshaping)"
   ]
  },
  {
   "cell_type": "code",
   "execution_count": 4,
   "id": "6c0c1085-1c13-4253-8bd4-e9a6a055e16a",
   "metadata": {},
   "outputs": [
    {
     "data": {
      "text/plain": [
       "array([1, 2, 3, 4, 5, 6, 7])"
      ]
     },
     "execution_count": 4,
     "metadata": {},
     "output_type": "execute_result"
    }
   ],
   "source": [
    "import numpy as np\n",
    "\n",
    "a = np.arange(1,8)\n",
    "a"
   ]
  },
  {
   "cell_type": "code",
   "execution_count": 5,
   "id": "9515cf61-09df-4530-84ad-81d6a062294f",
   "metadata": {
    "tags": []
   },
   "outputs": [
    {
     "data": {
      "text/plain": [
       "array([[1, 2],\n",
       "       [3, 4],\n",
       "       [5, 6],\n",
       "       [7, 8]])"
      ]
     },
     "execution_count": 5,
     "metadata": {},
     "output_type": "execute_result"
    }
   ],
   "source": [
    "import numpy as np\n",
    "\n",
    "b = np.arange(1,9)\n",
    "b.reshape((4,2))"
   ]
  },
  {
   "cell_type": "code",
   "execution_count": 6,
   "id": "46cc674a-17d7-491c-a250-7eb692bb5ee6",
   "metadata": {},
   "outputs": [
    {
     "name": "stdout",
     "output_type": "stream",
     "text": [
      "[[ 5  7  9]\n",
      " [11 13 15]\n",
      " [17 19 21]\n",
      " [23 25 27]] \n",
      "\n",
      " 1 \n",
      "\n",
      " 2\n"
     ]
    }
   ],
   "source": [
    "import numpy as np\n",
    "\n",
    "c = np.arange(5,29,2)\n",
    "d = c.reshape((4,3))\n",
    "\n",
    "print(d,\"\\n\\n\",c.ndim,\"\\n\\n\",d.ndim)"
   ]
  },
  {
   "cell_type": "code",
   "execution_count": 7,
   "id": "42c3ac25-cdfa-4711-9c54-bd84bc2942ac",
   "metadata": {},
   "outputs": [
    {
     "name": "stdout",
     "output_type": "stream",
     "text": [
      "[[6 7]\n",
      " [1 3]\n",
      " [6 5]\n",
      " [7 7]] \n",
      "\n",
      "\n",
      " [[67 22 36 46]\n",
      " [ 6 10 40 48]\n",
      " [44 50 11 17]\n",
      " [57 51 66 46]\n",
      " [ 3  5 39 35]\n",
      " [66 61 32 10]\n",
      " [34 25 17  8]\n",
      " [15 63 18 57]\n",
      " [45 11 68 49]\n",
      " [22 36 51 31]]\n"
     ]
    }
   ],
   "source": [
    "e = np.random.randint(1,9,(2,4)).reshape((4,2))\n",
    "f = np.random.randint(1,70,size=40).reshape((10,4))\n",
    "\n",
    "print(e,\"\\n\\n\\n\",f)"
   ]
  },
  {
   "cell_type": "code",
   "execution_count": 8,
   "id": "6a63dfcb-c515-4c5d-b47d-1662c7418201",
   "metadata": {},
   "outputs": [
    {
     "name": "stdout",
     "output_type": "stream",
     "text": [
      "[[ 0  1  2  3]\n",
      " [ 4  5  6  7]\n",
      " [ 8  9 10 11]\n",
      " [12 13 14 15]\n",
      " [16 17 18 19]] \n",
      "\n",
      "\n",
      " [40 45 50 55] \n",
      "\n"
     ]
    },
    {
     "data": {
      "text/plain": [
       "array([ 6, 22, 38, 54, 70])"
      ]
     },
     "execution_count": 8,
     "metadata": {},
     "output_type": "execute_result"
    }
   ],
   "source": [
    "from numpy import *\n",
    "\n",
    "a = arange(20).reshape((5,4))\n",
    "\n",
    "print(a,\"\\n\")\n",
    "\n",
    "print(\"\\n\",a.sum(axis=0),\"\\n\")   #arrayin sütunları([1.sütundaki değerler top.,2.sütun,.......,n.sütun]) toplamı\n",
    "\n",
    "a.sum(axis=1)               #arrayin satırları([1.satırdaki değerler top.,2.satır,.....,n.satır]) toplamı"
   ]
  },
  {
   "cell_type": "code",
   "execution_count": 16,
   "id": "50758d48-827c-436e-bccb-109d6670883b",
   "metadata": {},
   "outputs": [
    {
     "name": "stdout",
     "output_type": "stream",
     "text": [
      "[1 2 3 4 5 6 7] \n",
      "\n",
      "[[1 2 3 4 5 6 7]] \n",
      "\n"
     ]
    },
    {
     "data": {
      "text/plain": [
       "array([[1],\n",
       "       [2],\n",
       "       [3],\n",
       "       [4],\n",
       "       [5],\n",
       "       [6],\n",
       "       [7]])"
      ]
     },
     "execution_count": 16,
     "metadata": {},
     "output_type": "execute_result"
    }
   ],
   "source": [
    "# Basitçe söylemek gerekirse, bir kez numpy.newaxis kullanıldığında mevcut dizinin boyutunu bir boyut daha artırmak için kullanılır\n",
    "\n",
    "# 1D array will become 2D array\n",
    "# 2D array will become 3D array\n",
    "# 3D array will become 4D array\n",
    "# 4D array will become 5D array\n",
    "\n",
    "import numpy as np\n",
    "\n",
    "a = np.arange(1,8)\n",
    "\n",
    "print(a,\"\\n\")\n",
    "\n",
    "print(a[np.newaxis,:],\"\\n\")\n",
    "\n",
    "a[:,np.newaxis]"
   ]
  },
  {
   "cell_type": "markdown",
   "id": "d0a5304e-dd0a-4098-99ee-895772ebeeee",
   "metadata": {},
   "source": [
    "## Array Birleştirme (Concatenation)"
   ]
  },
  {
   "cell_type": "code",
   "execution_count": 3,
   "id": "728e0760-b675-47aa-8cd1-8db8543fd55e",
   "metadata": {
    "tags": []
   },
   "outputs": [
    {
     "name": "stdout",
     "output_type": "stream",
     "text": [
      "[1 2 3 4 5]\n"
     ]
    }
   ],
   "source": [
    "# tek boyutlu arrayler kendi arasında, iki boyutlu arrayler kendi arasında toplanır.\n",
    "#\n",
    "import numpy as np\n",
    "\n",
    "x = np.array([1,2,3])\n",
    "y = np.array([4,5])\n",
    "\n",
    "print(np.concatenate([x,y]))"
   ]
  },
  {
   "cell_type": "code",
   "execution_count": 95,
   "id": "96a802a8-4711-40b7-ae2b-c6b412dfaa85",
   "metadata": {},
   "outputs": [
    {
     "name": "stdout",
     "output_type": "stream",
     "text": [
      "[[ 1  2  3]\n",
      " [ 4  5  6]\n",
      " [ 7  8  9]\n",
      " [10 11 12]] \n",
      "\n",
      " [[ 1  2  3]\n",
      " [ 4  5  6]\n",
      " [ 7  8  9]\n",
      " [10 11 12]] \n",
      "\n",
      " [[ 1  2  3  7  8  9]\n",
      " [ 4  5  6 10 11 12]]\n"
     ]
    }
   ],
   "source": [
    "import numpy as np\n",
    "\n",
    "a = np.array([[1,2,3],\n",
    "             [4,5,6]])\n",
    "\n",
    "b = np.array([[7,8,9],\n",
    "             [10,11,12]])\n",
    "\n",
    "print(np.concatenate([a,b]),\"\\n\\n\",np.concatenate([a,b],axis=0),\"\\n\\n\",np.concatenate([a,b],axis=1))\n",
    "\n",
    "#iki boyutlu bir diziyle diğer iki boyutlu dizinin aynı satırları yanyana gelmesini istiyorsak axis=1 istemiyorsak axis=0 olmalı. \n"
   ]
  },
  {
   "cell_type": "code",
   "execution_count": 2,
   "id": "763a58a8-2cb3-4cdb-9f13-4066790f5a43",
   "metadata": {},
   "outputs": [
    {
     "name": "stdout",
     "output_type": "stream",
     "text": [
      "[[ 1  2  3]\n",
      " [ 4  5  6]\n",
      " [ 7  8  9]\n",
      " [10 11 12]\n",
      " [13 14 15]]\n"
     ]
    }
   ],
   "source": [
    "import numpy as np\n",
    "\n",
    "a = np.array([[1,2,3],\n",
    "             [4,5,6]])\n",
    "\n",
    "b = np.array([[7,8,9],\n",
    "             [10,11,12],\n",
    "             [13,14,15]])\n",
    "\n",
    "print(np.concatenate([a,b],axis=0))\n",
    "\n",
    "# iki boyutlu arraylerde axis=0 olduğunda \"sütun sayıları eşit olmak şartıyla\" farklı boyutta arrayler de toplanabilirken, \n",
    "# iki boyutlu arraylerde axis=1 olduğunda \"satur sayıları eşit olmak şartıyla\" farklı boyutta arrayler de toplanabilir. \n",
    "\n",
    "# iki durum da aksi durum yaşanırsa hata verir.\n",
    "\n",
    "\n",
    "# print(np.concatenate([a,b],axis=1)) ---> ValueError"
   ]
  },
  {
   "cell_type": "markdown",
   "id": "65e6b3b3-54c2-4593-948d-0dcbd44b7742",
   "metadata": {},
   "source": [
    "## Array Ayırma (splitting)"
   ]
  },
  {
   "cell_type": "code",
   "execution_count": 27,
   "id": "ecb816be-7937-427f-a4b9-04b3165dd280",
   "metadata": {},
   "outputs": [
    {
     "name": "stdout",
     "output_type": "stream",
     "text": [
      "[array([1, 2, 3]), array([10, 11, 12]), array([50, 60, 70])]\n",
      "\n",
      " [array([1, 2, 3]), array([10, 11, 12]), array([50, 60, 70])]\n"
     ]
    }
   ],
   "source": [
    "# TEK BOYUTLU AYIRMA\n",
    "\n",
    "import numpy as np\n",
    "\n",
    "a = np.array([1,2,3,10,11,12,50,60,70])\n",
    "\n",
    "print(np.split(a,3))\n",
    "\n",
    "print(\"\\n\",np.split(a,[3,6]))"
   ]
  },
  {
   "cell_type": "code",
   "execution_count": 28,
   "id": "5b44b083-b146-41d8-b57b-4e351091b417",
   "metadata": {},
   "outputs": [
    {
     "name": "stdout",
     "output_type": "stream",
     "text": [
      "[1 2 3] [10 11 12] [50 60 70]\n"
     ]
    }
   ],
   "source": [
    "import numpy as np\n",
    "\n",
    "a = np.array([1,2,3,10,11,12,50,60,70])\n",
    "b,c,d = np.split(a,[3,6])\n",
    "\n",
    "print(b,c,d)"
   ]
  },
  {
   "cell_type": "code",
   "execution_count": 43,
   "id": "35bec0f5-4e24-45a9-bf9a-f11cd61a58b2",
   "metadata": {},
   "outputs": [
    {
     "data": {
      "text/plain": [
       "[array([70, 80]),\n",
       " array([ 90, 100]),\n",
       " array([110, 120]),\n",
       " array([130, 140]),\n",
       " array([150, 150])]"
      ]
     },
     "execution_count": 43,
     "metadata": {},
     "output_type": "execute_result"
    }
   ],
   "source": [
    "import numpy as np\n",
    "\n",
    "a = np.array([70,80,90,100,110,120,130,140,150,150])\n",
    "np.split(a,5)"
   ]
  },
  {
   "cell_type": "code",
   "execution_count": 6,
   "id": "7fed30ef-177b-46cb-97f0-dd6774e483ed",
   "metadata": {},
   "outputs": [
    {
     "data": {
      "text/plain": [
       "array([[ 0,  1,  2,  3],\n",
       "       [ 4,  5,  6,  7],\n",
       "       [ 8,  9, 10, 11],\n",
       "       [12, 13, 14, 15]])"
      ]
     },
     "execution_count": 6,
     "metadata": {},
     "output_type": "execute_result"
    }
   ],
   "source": [
    "# İKİ BOYUTLU AYIRMA\n",
    "\n",
    "import numpy as np\n",
    "a = np.arange(16).reshape(4,4)\n",
    "a"
   ]
  },
  {
   "cell_type": "code",
   "execution_count": 7,
   "id": "f085fa75-200e-44cd-af7f-1bbb066de76a",
   "metadata": {},
   "outputs": [
    {
     "name": "stdout",
     "output_type": "stream",
     "text": [
      "[[ 0  1  2  3]\n",
      " [ 4  5  6  7]\n",
      " [ 8  9 10 11]\n",
      " [12 13 14 15]] \n",
      "\n",
      "\n",
      "[array([[0, 1, 2, 3]]), array([[4, 5, 6, 7]]), array([[ 8,  9, 10, 11]]), array([[12, 13, 14, 15]])] \n",
      "\n",
      "\n",
      "[array([[0, 1, 2, 3],\n",
      "       [4, 5, 6, 7]]), array([[ 8,  9, 10, 11],\n",
      "       [12, 13, 14, 15]])] \n",
      "\n",
      "\n",
      "[array([[0, 1, 2, 3],\n",
      "       [4, 5, 6, 7]]), array([[ 8,  9, 10, 11],\n",
      "       [12, 13, 14, 15]])] \n",
      "\n",
      "\n",
      "[array([[ 0,  1],\n",
      "       [ 4,  5],\n",
      "       [ 8,  9],\n",
      "       [12, 13]]), array([[ 2,  3],\n",
      "       [ 6,  7],\n",
      "       [10, 11],\n",
      "       [14, 15]])] \n",
      "\n",
      "\n",
      "\n",
      "sol:  [[ 0  1]\n",
      " [ 4  5]\n",
      " [ 8  9]\n",
      " [12 13]] \n",
      "\n",
      "\n",
      "sağ:  [[ 2  3]\n",
      " [ 6  7]\n",
      " [10 11]\n",
      " [14 15]]\n"
     ]
    }
   ],
   "source": [
    "import numpy as np\n",
    "\n",
    "a = np.arange(16).reshape(4,4)\n",
    "\n",
    "print(a,\"\\n\\n\")\n",
    "\n",
    "print(np.split(a,4),\"\\n\\n\")\n",
    "\n",
    "print(np.split(a,2),\"\\n\\n\")\n",
    "print(np.vsplit(a,[2]),\"\\n\\n\")         #vsplit() = Bir diziyi dikey olarak (satır bazında) birden çok alt diziye ayırın.\n",
    "print(np.hsplit(a,[2]),\"\\n\\n\")         #hsplit() = Bir diziyi yatay olarak (sütun bazında) birden çok alt diziye ayırın. \n",
    "\n",
    "print(\"\\nsol: \",np.hsplit(a,[2])[0],\"\\n\\n\\nsağ: \",np.hsplit(a,[2])[1])       "
   ]
  },
  {
   "cell_type": "markdown",
   "id": "861c1501-305b-4240-a40e-a601c5e10ec9",
   "metadata": {},
   "source": [
    "## Dizi Arama"
   ]
  },
  {
   "cell_type": "code",
   "execution_count": 21,
   "id": "30c3d965-138d-421d-b0ae-2766e775b3d1",
   "metadata": {},
   "outputs": [
    {
     "data": {
      "text/plain": [
       "(array([1, 3, 5, 7], dtype=int64),)"
      ]
     },
     "execution_count": 21,
     "metadata": {},
     "output_type": "execute_result"
    }
   ],
   "source": [
    "import numpy as np\n",
    "\n",
    "arr = np.array([1, 2, 3, 4, 5, 6, 7, 8])\n",
    "x = np.where(arr%2 == 0)                             #numpy.where () işlevi, verilen koşulun karşılandığı bir giriş dizisindeki öğelerin indekslerini döndürür.\n",
    "x"
   ]
  },
  {
   "cell_type": "code",
   "execution_count": 2,
   "id": "8d4b0f6b-4fe6-4ea6-b15f-35fa3dc90016",
   "metadata": {},
   "outputs": [
    {
     "data": {
      "text/plain": [
       "(array([0, 2, 4, 6], dtype=int64),)"
      ]
     },
     "execution_count": 2,
     "metadata": {},
     "output_type": "execute_result"
    }
   ],
   "source": [
    "import numpy as np\n",
    "\n",
    "arr = np.array([1, 2, 3, 4, 5, 6, 7, 8])\n",
    "\n",
    "x = np.where(arr%2 == 1)\n",
    "x"
   ]
  },
  {
   "cell_type": "code",
   "execution_count": 213,
   "id": "8d8137dd-da92-46b7-9905-7ab76f826400",
   "metadata": {},
   "outputs": [
    {
     "data": {
      "text/plain": [
       "(array([3, 4, 6, 8], dtype=int64),)"
      ]
     },
     "execution_count": 213,
     "metadata": {},
     "output_type": "execute_result"
    }
   ],
   "source": [
    "import numpy as np\n",
    "\n",
    "arr = np.array([1, 2, 3, 5, 5, 4, 5, 6, 5, 7, 8])\n",
    "\n",
    "x = np.where(arr == 5)\n",
    "\n",
    "x"
   ]
  },
  {
   "cell_type": "markdown",
   "id": "95c0dd4b-c71b-4576-866a-352970865c92",
   "metadata": {
    "tags": []
   },
   "source": [
    "## Sıralama (Sorting)"
   ]
  },
  {
   "cell_type": "code",
   "execution_count": null,
   "id": "e670d93b-5ba9-44a3-bcea-f4530ee4e1ea",
   "metadata": {},
   "outputs": [
    {
     "data": {
      "text/plain": [
       "array([1, 2, 4, 8, 9])"
      ]
     },
     "execution_count": 5,
     "metadata": {},
     "output_type": "execute_result"
    }
   ],
   "source": [
    "import numpy as np\n",
    "\n",
    "x = np.array([4,1,9,8,2])\n",
    "np.sort(x)                   # np.sort NumPy içerisinden çağrıldığı için veri setinin yapısını tamamen değiştirmedi."
   ]
  },
  {
   "cell_type": "code",
   "execution_count": null,
   "id": "5efae3b8-f487-4800-9a49-5a583597b5fd",
   "metadata": {},
   "outputs": [
    {
     "data": {
      "text/plain": [
       "array([1, 2, 4, 8, 9])"
      ]
     },
     "execution_count": 4,
     "metadata": {},
     "output_type": "execute_result"
    }
   ],
   "source": [
    "x"
   ]
  },
  {
   "cell_type": "code",
   "execution_count": 31,
   "id": "9b3d10fe-a4d5-43de-9439-9b2fae742014",
   "metadata": {},
   "outputs": [
    {
     "data": {
      "text/plain": [
       "array([1, 2, 4, 8, 9])"
      ]
     },
     "execution_count": 31,
     "metadata": {},
     "output_type": "execute_result"
    }
   ],
   "source": [
    "import numpy as np\n",
    "\n",
    "x = np.array([4,1,9,8,2])\n",
    "x.sort()                     #  liste yöntemlerinden biri olan bu sort yapısı ise veri setinin yapısını değiştirdi.\n",
    "x"
   ]
  },
  {
   "cell_type": "code",
   "execution_count": 32,
   "id": "b59f3520-ab23-436f-b42d-e457227dfcc4",
   "metadata": {},
   "outputs": [
    {
     "data": {
      "text/plain": [
       "array([1, 2, 4, 8, 9])"
      ]
     },
     "execution_count": 32,
     "metadata": {},
     "output_type": "execute_result"
    }
   ],
   "source": [
    "x"
   ]
  },
  {
   "cell_type": "code",
   "execution_count": 48,
   "id": "77944789-41bf-49cf-817a-2d90f0f93a22",
   "metadata": {},
   "outputs": [
    {
     "data": {
      "text/plain": [
       "array([[20.99444347, 17.30004304, 17.03946856],\n",
       "       [24.23605994, 17.73491088, 18.84043841],\n",
       "       [24.7773086 , 20.39368873, 36.98131315]])"
      ]
     },
     "execution_count": 48,
     "metadata": {},
     "output_type": "execute_result"
    }
   ],
   "source": [
    "import numpy as np\n",
    "\n",
    "d = np.random.normal(20,5,(3,3))\n",
    "np.sort(d,axis = 0)                # sütunlara göre küçükten büyüğe sıralama"
   ]
  },
  {
   "cell_type": "code",
   "execution_count": 54,
   "id": "356320c2-1bcd-4a31-bccc-8eb78ed88e30",
   "metadata": {},
   "outputs": [
    {
     "data": {
      "text/plain": [
       "array([[17.89196031, 25.71111701, 28.57845768],\n",
       "       [17.12466076, 19.35523079, 23.27456366],\n",
       "       [14.73329239, 19.44400316, 21.43725827]])"
      ]
     },
     "execution_count": 54,
     "metadata": {},
     "output_type": "execute_result"
    }
   ],
   "source": [
    "import numpy as np\n",
    "\n",
    "d = np.random.normal(20,5,(3,3))\n",
    "np.sort(d,axis = 1)               # satırlara göre küçükten büyüğe sıralama"
   ]
  },
  {
   "cell_type": "code",
   "execution_count": 37,
   "id": "44f999a8-ebad-45fc-9db8-c5f35afea880",
   "metadata": {},
   "outputs": [
    {
     "data": {
      "text/plain": [
       "array([10,  5, 20, 15, 25])"
      ]
     },
     "execution_count": 37,
     "metadata": {},
     "output_type": "execute_result"
    }
   ],
   "source": [
    "# Quizdeki soru\n",
    "\n",
    "import numpy as np\n",
    "\n",
    "5*np.array([2, 1, 4, 3, 5])\n"
   ]
  },
  {
   "cell_type": "code",
   "execution_count": null,
   "id": "45d1def0-51a1-4d4a-ab03-dd37cab723a2",
   "metadata": {},
   "outputs": [],
   "source": [
    "# axislerde olay şu: eğer birleştirme, ayırma gibi durumlar varsa bildiğin yöntem gibi yap(0 dediğinde aşağı baz al, 1 dediğinde yanları)\n",
    "#eğer arraylerdeki veriler için sıralama,toplama vb. şeyler varsa bildiğin yöntemin tam tersi."
   ]
  },
  {
   "cell_type": "code",
   "execution_count": null,
   "id": "3177ea36-9da1-4475-8d27-947d2b68f250",
   "metadata": {},
   "outputs": [],
   "source": []
  },
  {
   "cell_type": "code",
   "execution_count": null,
   "id": "67117c55-016c-4b0c-9d29-a347b592cc6b",
   "metadata": {},
   "outputs": [
    {
     "name": "stdout",
     "output_type": "stream",
     "text": [
      "[1 3 6]\n"
     ]
    }
   ],
   "source": [
    "# QUİZ - kümülatif\n",
    "import numpy as np\n",
    "arr = np.array([1,2,3])\n",
    "print(np.cumsum(arr))"
   ]
  }
 ],
 "metadata": {
  "kernelspec": {
   "display_name": "Python 3 (ipykernel)",
   "language": "python",
   "name": "python3"
  },
  "language_info": {
   "codemirror_mode": {
    "name": "ipython",
    "version": 3
   },
   "file_extension": ".py",
   "mimetype": "text/x-python",
   "name": "python",
   "nbconvert_exporter": "python",
   "pygments_lexer": "ipython3",
   "version": "3.9.13"
  }
 },
 "nbformat": 4,
 "nbformat_minor": 5
}
