{
 "cells": [
  {
   "cell_type": "markdown",
   "id": "f3e07596-3614-4a83-84f7-b7411efbb4b2",
   "metadata": {
    "tags": []
   },
   "source": [
    "## NumPy'e giriş ve neden NumPy ?"
   ]
  },
  {
   "cell_type": "markdown",
   "id": "8cf23ae8-7432-47e3-bb6b-066c06b04960",
   "metadata": {
    "tags": []
   },
   "source": [
    "<span style='color:blue'>HATIRLATMA</span>\n",
    "> <span style='color:orange'>Array(dizi) bilgisayar bilimlerinde dizinle (satır numarasıyla) erişilen bir veri öbeği oluşturmak için kullanılan bir veri yapısıdır. Çoğu programlama dilinde bir dizinin tuttuğu bütün öğeler aynı veri türündendir ve dizi ardışık bellek adresleriyle gösterilen konumlarda saklanır.</span>\n"
   ]
  },
  {
   "cell_type": "markdown",
   "id": "5c8a0f85-188e-477a-bfed-abf9a1d570fc",
   "metadata": {
    "tags": []
   },
   "source": [
    "* 2005 yılında Amerikalı bir veri bilimci olan **Travis Oliphant**, Numarray'in özelliklerini kapsamlı değişikliklerle Numeric'e dahil ederek NumPy'yi yarattı.\n",
    "\n",
    "* NumPy dizilerle çalışmak için kullanılan bir python kütüphanesidir.\n",
    "NumPy adı 'Numerical Python' dan gelmektedir.\n",
    "Ayrıca lineer cebir ve matrisler alanında çalışmak için fonksiyonlara sahiptir.\n",
    "\n",
    "**NumPy Array'in temel işlevi, n-boyutlu dizi nesnesi için \"ndarray\"idir.**\n",
    "\n",
    "* Python dizilerin amacına hizmet eden listlerimiz var ancak işlenmesi yavaştır.**NumPy geleneksel Python listelerinden 50 kata kadar daha hızlı ve daha verimli veri saklama** işlevi gören bir dizi nesnesi sağlamayı amaçlar.\n",
    "\n",
    "<span style='color:blue'>-Peki NumPy neden listelerden daha hızlı ?</span>\n",
    " > **NumPy dizileri,listelerin aksine bellekte tek bir sürekli yerde depolanır,böylece işlemler bunlara çok verimli bir şekilde erişebilir ve işleyebilir.Oysaki listelerde her bir veri için tek tek type sorgulanır ve her veri için bellek ayrılır.Bunu aşağıdaki örneklerle daha iyi kavrayacağız.**\n"
   ]
  },
  {
   "cell_type": "markdown",
   "id": "233e9071-9d4c-4c57-8e11-95d153477f98",
   "metadata": {},
   "source": [
    "<span style='color:green'>Ek Bilgi</span>\n",
    "> Yaygın olarak kullanılan bilgisayarlı görü kitaplığı OpenCV'nin Python bağlamaları , verileri depolamak ve üzerinde çalışmak için NumPy dizilerini kullanır. Birden çok kanala sahip görüntüler basitçe üç boyutlu diziler olarak temsil edildiğinden, indeksleme, dilimleme veya diğer dizilerle maskeleme , bir görüntünün belirli piksellerine erişmenin çok etkili yollarıdır. OpenCV'de görüntüler, çıkarılan özellik noktaları , filtre çekirdekleri ve daha pek çok şey için evrensel veri yapısı olarak NumPy dizisi , programlama iş akışını ve hata ayıklamayı büyük ölçüde basitleştirir ."
   ]
  },
  {
   "cell_type": "code",
   "execution_count": 11,
   "id": "5ed4ecb7-a95e-42e2-a6ad-bd8831dd2c93",
   "metadata": {},
   "outputs": [
    {
     "name": "stdout",
     "output_type": "stream",
     "text": [
      "[4, 16, 36, 64]\n"
     ]
    }
   ],
   "source": [
    "# NumPy kullanmadan, iki listeyi nasıl çarparız ?\n",
    "\n",
    "a = [1,2,3,4]\n",
    "b = [4,8,12,16]\n",
    "ab = []\n",
    "\n",
    "for i in range(0,len(a)):\n",
    "    ab.append(a[i]*b[i])\n",
    "print(ab)"
   ]
  },
  {
   "cell_type": "code",
   "execution_count": 1,
   "id": "c637a698-1f14-4081-ab8d-6d78ae309aa1",
   "metadata": {},
   "outputs": [
    {
     "name": "stdout",
     "output_type": "stream",
     "text": [
      "[ 4 16 36 64]\n"
     ]
    }
   ],
   "source": [
    "# NumPy kullanarak , iki listeyi nasıl çarparız ?\n",
    "\n",
    "import numpy as np\n",
    "\n",
    "a = np.array([1,2,3,4])\n",
    "b = np.array([4,8,12,16])\n",
    "\n",
    "print(a*b)"
   ]
  },
  {
   "cell_type": "code",
   "execution_count": 5,
   "id": "5092f87e-8bd0-4238-952d-36c580866ebc",
   "metadata": {},
   "outputs": [
    {
     "data": {
      "text/plain": [
       "array([ 4, 16, 36, 64])"
      ]
     },
     "execution_count": 5,
     "metadata": {},
     "output_type": "execute_result"
    }
   ],
   "source": [
    "import numpy as np\n",
    "\n",
    "a = np.array([1,2,3,4])\n",
    "b = np.array([4,8,12,16])\n",
    "\n",
    "a*b"
   ]
  },
  {
   "cell_type": "code",
   "execution_count": 14,
   "id": "ec706807-9194-4ee7-a863-9d1be1b53830",
   "metadata": {
    "tags": []
   },
   "outputs": [],
   "source": [
    "# Özetle optimizasyon anlamında,yazılımsal anlamda ve veri saklama konusunda NumPy, Listlere göre daha kullanışlıdır. "
   ]
  },
  {
   "cell_type": "markdown",
   "id": "4ac25c81-d8cf-4c06-8894-7681d4e3caf4",
   "metadata": {},
   "source": [
    "<span style='color:purple'>NUMPY VERİ TİPLERİ</span> \n",
    "\n",
    "> Bir Numpy dizisi homojen olması gerekir.Yani veri tiplerinin aynı olma durumudur.\n",
    "\n",
    "> Numpy, Python’dan farklı olarak 16 farklı veri tipini destekler. (_bool, int_, intc, intp, int8, int16, int32, int64, uint8, uint16, uint32, uint64, float_, float16, float32, float64, complex_, complex64, complex128)\n",
    "\n",
    "> “ _  ” ile biten veri tipleri o veri tipinin en yüksek değerinin kısa halidir. Örneğin float_ için float64 değeridir. Ayrıca int8, int16, int32, int64 yerine sırasıyla  ‘i1’, ‘i2′,’i4’ vb. string’leri de kullanılabilir."
   ]
  },
  {
   "cell_type": "markdown",
   "id": "83de48a8-2233-4d10-b3da-b2e7fde1052f",
   "metadata": {},
   "source": [
    "## Tam Sayılar"
   ]
  },
  {
   "cell_type": "markdown",
   "id": "679db859-363d-4a00-8085-421b05c1abd9",
   "metadata": {},
   "source": [
    "En sık kullanılan tamsayı formları int8, int16, int32, int64'tür."
   ]
  },
  {
   "cell_type": "code",
   "execution_count": 15,
   "id": "37017a7a-3cb7-4a60-a70b-9c1858ae2260",
   "metadata": {},
   "outputs": [
    {
     "data": {
      "text/plain": [
       "array([3, 4, 5, 6])"
      ]
     },
     "execution_count": 15,
     "metadata": {},
     "output_type": "execute_result"
    }
   ],
   "source": [
    "import numpy as np\n",
    "a = np.array([3.7, 4, 5, 6.5],dtype=\"int\")\n",
    "a"
   ]
  },
  {
   "cell_type": "code",
   "execution_count": 16,
   "id": "30201adc-ff30-45fd-9251-a6e86f30fbb3",
   "metadata": {},
   "outputs": [
    {
     "data": {
      "text/plain": [
       "dtype('int32')"
      ]
     },
     "execution_count": 16,
     "metadata": {},
     "output_type": "execute_result"
    }
   ],
   "source": [
    "a.dtype"
   ]
  },
  {
   "cell_type": "markdown",
   "id": "17c81487-d5e6-4b93-bc9b-5e763e0e5275",
   "metadata": {
    "tags": []
   },
   "source": [
    "## İşaretsiz Tamsayılar"
   ]
  },
  {
   "cell_type": "markdown",
   "id": "581233e1-4383-445b-9204-87bc76a1ca72",
   "metadata": {},
   "source": [
    "Eğer veri setinde negatif tamsayı içeren bir veri yoksa bu formatı kullanarak bilgisayardaki belleği daha etkili kullanabiliriz. En sık kullanılan işaretsiz tamsayı formları uint8, uint16, uint32, uint64."
   ]
  },
  {
   "cell_type": "markdown",
   "id": "3c45c94e-10ea-41ab-8007-5dbe7384ea45",
   "metadata": {
    "tags": []
   },
   "source": [
    "## Mantıksal İfadeler"
   ]
  },
  {
   "cell_type": "markdown",
   "id": "5588d461-d174-436b-9d03-92a9fee7790a",
   "metadata": {},
   "source": [
    "Eğer veri setinde True veya False gibi ifadeler var ise bu formatı kullanmak oldukça etkilidir."
   ]
  },
  {
   "cell_type": "code",
   "execution_count": 17,
   "id": "6c11c9b3-142f-4343-a634-285a57847de7",
   "metadata": {},
   "outputs": [
    {
     "data": {
      "text/plain": [
       "array([False,  True, False,  True])"
      ]
     },
     "execution_count": 17,
     "metadata": {},
     "output_type": "execute_result"
    }
   ],
   "source": [
    "import warnings\n",
    "warnings.filterwarnings('ignore')         #Pythondan kaynaklı hataları engellemek için.\n",
    "\n",
    "data = np.array([0,-5,False,6], dtype=np.bool)\n",
    "data"
   ]
  },
  {
   "cell_type": "markdown",
   "id": "53b303ec-a30c-48ba-a597-8353c13effca",
   "metadata": {},
   "source": [
    "## Ondalıklı Sayılar"
   ]
  },
  {
   "cell_type": "code",
   "execution_count": 18,
   "id": "0319f3a3-977b-4c89-b112-d8d319a50a67",
   "metadata": {},
   "outputs": [
    {
     "data": {
      "text/plain": [
       "array([3. , 4. , 5. , 6.5])"
      ]
     },
     "execution_count": 18,
     "metadata": {},
     "output_type": "execute_result"
    }
   ],
   "source": [
    "b = np.array([3, 4, 5, 6.5],dtype=np.float)\n",
    "b"
   ]
  },
  {
   "cell_type": "markdown",
   "id": "ae930674-fc8f-4d07-9694-c59b8818e272",
   "metadata": {
    "tags": []
   },
   "source": [
    "## Karmaşık Sayılar"
   ]
  },
  {
   "cell_type": "code",
   "execution_count": 19,
   "id": "89e24137-bb9c-4c2e-bd11-70d4af63ec3c",
   "metadata": {},
   "outputs": [
    {
     "data": {
      "text/plain": [
       "array([2., 4., 6.])"
      ]
     },
     "execution_count": 19,
     "metadata": {},
     "output_type": "execute_result"
    }
   ],
   "source": [
    "a = np.array([1+2j, 3+4j, 5+6j])\n",
    "a.imag"
   ]
  },
  {
   "cell_type": "code",
   "execution_count": 20,
   "id": "684f1f3c-12eb-432e-b76a-6f68d88f464b",
   "metadata": {},
   "outputs": [
    {
     "data": {
      "text/plain": [
       "array([1., 3., 5.])"
      ]
     },
     "execution_count": 20,
     "metadata": {},
     "output_type": "execute_result"
    }
   ],
   "source": [
    "a.real"
   ]
  },
  {
   "cell_type": "code",
   "execution_count": 19,
   "id": "5e6df148-3f98-41b9-ac2b-f15e1137bb93",
   "metadata": {},
   "outputs": [
    {
     "data": {
      "text/plain": [
       "array([3. , 4. , 5. , 6.5], dtype=float32)"
      ]
     },
     "execution_count": 19,
     "metadata": {},
     "output_type": "execute_result"
    }
   ],
   "source": [
    "import numpy as np\n",
    "b = np.array([3, 4, 5, 6.5],dtype=\"f\")\n",
    "b"
   ]
  },
  {
   "cell_type": "code",
   "execution_count": null,
   "id": "32a3197f-3d60-4fa3-8b15-05cca0883274",
   "metadata": {},
   "outputs": [],
   "source": []
  }
 ],
 "metadata": {
  "kernelspec": {
   "display_name": "Python 3 (ipykernel)",
   "language": "python",
   "name": "python3"
  },
  "language_info": {
   "codemirror_mode": {
    "name": "ipython",
    "version": 3
   },
   "file_extension": ".py",
   "mimetype": "text/x-python",
   "name": "python",
   "nbconvert_exporter": "python",
   "pygments_lexer": "ipython3",
   "version": "3.9.13"
  }
 },
 "nbformat": 4,
 "nbformat_minor": 5
}
