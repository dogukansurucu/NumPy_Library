{
 "cells": [
  {
   "cell_type": "markdown",
   "id": "3e360315-d384-467c-94cb-d5e04a8df50f",
   "metadata": {},
   "source": [
    "## NumPy Array Özellikleri"
   ]
  },
  {
   "cell_type": "markdown",
   "id": "67da0919-fd9c-4477-b4da-4ce213707729",
   "metadata": {},
   "source": [
    "* ndim (rank)\n",
    "* shape\n",
    "* size\n",
    "* dtype\n",
    "* eye"
   ]
  },
  {
   "cell_type": "code",
   "execution_count": null,
   "id": "39a9fc33-edce-483b-8121-c5d6fc9d4495",
   "metadata": {},
   "outputs": [
    {
     "data": {
      "text/plain": [
       "array([0, 6, 0, 5, 7])"
      ]
     },
     "execution_count": 23,
     "metadata": {},
     "output_type": "execute_result"
    }
   ],
   "source": [
    "import numpy as np\n",
    "\n",
    "a = np.random.randint(8,size=5)\n",
    "a"
   ]
  },
  {
   "cell_type": "code",
   "execution_count": 2,
   "id": "cc56b0d3-dee3-453b-8b51-16134d9b2e71",
   "metadata": {},
   "outputs": [
    {
     "data": {
      "text/plain": [
       "1"
      ]
     },
     "execution_count": 2,
     "metadata": {},
     "output_type": "execute_result"
    }
   ],
   "source": [
    "import numpy as np\n",
    "\n",
    "b = np.random.randint(8,11,size=5)\n",
    "b.ndim                                          \n",
    "\n",
    "                                                #ndim = numpy array nesnesi bir boyutlu dizi ise ndim metodu 1 sonucunu, eğer iki boyutlu array ise 2 sonucunu verir.\n",
    "                                                # eğer tek boyut için rastgele sayı üretmesini istiyorsak 1 sayı girip max oraya kadar rastgele sayı üretebilir.Yani illa 2 sayı girmemize gerek kalmaz.\n",
    "                                                #numpy array nesnesinin boyut sayısını(1/2) döndürür."
   ]
  },
  {
   "cell_type": "code",
   "execution_count": 52,
   "id": "3b89154b-8e0d-4b18-a865-77bb7e942641",
   "metadata": {},
   "outputs": [
    {
     "name": "stdout",
     "output_type": "stream",
     "text": [
      "[[ 6  9  8]\n",
      " [ 5 10  8]\n",
      " [ 3  3  7]] ,\t 2\n"
     ]
    }
   ],
   "source": [
    "import numpy as np\n",
    "\n",
    "c = np.random.randint(2,11,(3,3))\n",
    "\n",
    "print(c,\",\\t\",c.ndim)                           #ndim = numpy array nesnesi bir boyutlu dizi ise ndim metodu 1 sonucunu, eğer iki boyutlu array ise 2 sonucunu verir.\n",
    "                                                # eğer tek boyut için rastgele sayı üretmesini istiyorsak 1 sayı girip max oraya kadar rastgele sayı üretebilir.Yani illa 2 sayı girmemize gerek kalmaz."
   ]
  },
  {
   "cell_type": "code",
   "execution_count": 53,
   "id": "6ad13616",
   "metadata": {},
   "outputs": [
    {
     "data": {
      "text/plain": [
       "array([[0, 0, 3, 3, 7],\n",
       "       [5, 7, 7, 5, 0],\n",
       "       [6, 6, 3, 4, 4]])"
      ]
     },
     "execution_count": 53,
     "metadata": {},
     "output_type": "execute_result"
    }
   ],
   "source": [
    "import numpy as np\n",
    "\n",
    "b = np.random.randint(8,size= (3,5))\n",
    "b"
   ]
  },
  {
   "cell_type": "code",
   "execution_count": 54,
   "id": "17f3066c-b6e5-4633-9ea5-746d662dfa93",
   "metadata": {
    "tags": []
   },
   "outputs": [
    {
     "data": {
      "text/plain": [
       "array([[ 9,  8,  9,  8,  9],\n",
       "       [ 8,  9, 10,  9,  8],\n",
       "       [ 8, 10, 10,  9,  9]])"
      ]
     },
     "execution_count": 54,
     "metadata": {},
     "output_type": "execute_result"
    }
   ],
   "source": [
    "import numpy as np\n",
    "\n",
    "b = np.random.randint(8,11,size = (3,5))    # randint metodunda 2 sayı arasında rastgele sayı oluşturulduğu gibi tek sayı yazarak da mx o sayıya kadar rastgele\n",
    "                                   # sayılar oluşturabiliriz. Fakat 2 boyutlu arrayler için oluşturacaksak size = (a,b) şeklinde belirtmemiz lazım.\n",
    "                                   # sadece arrayi belirtip size'ı yazmazsak hata verir.\n",
    "b"
   ]
  },
  {
   "cell_type": "code",
   "execution_count": null,
   "id": "e94cbcb9-24ff-427c-862c-d236dec19897",
   "metadata": {
    "tags": []
   },
   "outputs": [
    {
     "ename": "ValueError",
     "evalue": "low >= high",
     "output_type": "error",
     "traceback": [
      "\u001b[1;31m---------------------------------------------------------------------------\u001b[0m",
      "\u001b[1;31mValueError\u001b[0m                                Traceback (most recent call last)",
      "\u001b[1;32m~\\AppData\\Local\\Temp\\ipykernel_15368\\3733922504.py\u001b[0m in \u001b[0;36m<module>\u001b[1;34m\u001b[0m\n\u001b[0;32m      1\u001b[0m \u001b[1;32mimport\u001b[0m \u001b[0mnumpy\u001b[0m \u001b[1;32mas\u001b[0m \u001b[0mnp\u001b[0m\u001b[1;33m\u001b[0m\u001b[1;33m\u001b[0m\u001b[0m\n\u001b[0;32m      2\u001b[0m \u001b[1;33m\u001b[0m\u001b[0m\n\u001b[1;32m----> 3\u001b[1;33m \u001b[0mb\u001b[0m \u001b[1;33m=\u001b[0m \u001b[0mnp\u001b[0m\u001b[1;33m.\u001b[0m\u001b[0mrandom\u001b[0m\u001b[1;33m.\u001b[0m\u001b[0mrandint\u001b[0m\u001b[1;33m(\u001b[0m\u001b[1;36m8\u001b[0m\u001b[1;33m,\u001b[0m\u001b[1;33m(\u001b[0m\u001b[1;36m3\u001b[0m\u001b[1;33m,\u001b[0m\u001b[1;36m5\u001b[0m\u001b[1;33m)\u001b[0m\u001b[1;33m)\u001b[0m\u001b[1;33m\u001b[0m\u001b[1;33m\u001b[0m\u001b[0m\n\u001b[0m\u001b[0;32m      4\u001b[0m \u001b[0mb\u001b[0m\u001b[1;33m\u001b[0m\u001b[1;33m\u001b[0m\u001b[0m\n",
      "\u001b[1;32mmtrand.pyx\u001b[0m in \u001b[0;36mnumpy.random.mtrand.RandomState.randint\u001b[1;34m()\u001b[0m\n",
      "\u001b[1;32m_bounded_integers.pyx\u001b[0m in \u001b[0;36mnumpy.random._bounded_integers._rand_int32\u001b[1;34m()\u001b[0m\n",
      "\u001b[1;32m_bounded_integers.pyx\u001b[0m in \u001b[0;36mnumpy.random._bounded_integers._rand_int32_broadcast\u001b[1;34m()\u001b[0m\n",
      "\u001b[1;31mValueError\u001b[0m: low >= high"
     ]
    }
   ],
   "source": [
    "import numpy as np\n",
    "\n",
    "b = np.random.randint(8,(3,5))  # hata verecektir.Çünkü kullanıma uygun değil.\n",
    "b"
   ]
  },
  {
   "cell_type": "code",
   "execution_count": 56,
   "id": "136400d8-27d0-40b2-b152-32bf45c0ba46",
   "metadata": {},
   "outputs": [
    {
     "name": "stdout",
     "output_type": "stream",
     "text": [
      "[[ 9  9  8  8]\n",
      " [ 9  9  8  8]\n",
      " [ 8  9  9 10]] \n",
      "\n",
      "(3, 4)\n",
      "\n",
      "\n",
      "[[0 1 2 3 4 5 6 7 8 9]]\n",
      "(1, 10)\n",
      "10\n",
      "\n",
      "\n",
      "10\n",
      "(10,)\n",
      "\n",
      "\n",
      "[[ 8  9]\n",
      " [ 9  8]\n",
      " [ 8  8]\n",
      " [10  9]\n",
      " [10  8]]\n",
      "10\n",
      "(5, 2)\n",
      "\n",
      "\n",
      "(2, 3)\n",
      "[[1 2 3]\n",
      " [4 5 6]]\n"
     ]
    }
   ],
   "source": [
    "import numpy as np\n",
    "\n",
    "\n",
    "d = np.random.randint(8,11,size=(3,4))\n",
    "\n",
    "e = np.array([[0, 1, 2, 3, 4, 5, 6, 7, 8, 9]])\n",
    "\n",
    "f = np.array([0, 1, 2, 3, 4, 5, 6, 7, 8, 9])\n",
    "\n",
    "g = np.random.randint(8,11,size=(5,2))  \n",
    "\n",
    "h = np.array([[1,2,3],[4,5,6]])\n",
    "\n",
    "\n",
    "#size = listenin içindeki toplam eleman sayısının ne kadar olacağını söyler.\n",
    "#shape = numpy array nesnesinin boyut bilgisi verir.\n",
    "\n",
    "print(d,\"\\n\")\n",
    "print(d.shape)\n",
    "print(\"\\n\")\n",
    "print(e)\n",
    "print(e.shape)\n",
    "print(e.size)\n",
    "print(\"\\n\")\n",
    "print(f.size)\n",
    "print(f.shape)\n",
    "print(\"\\n\")\n",
    "print(g)\n",
    "print(g.size)\n",
    "print(g.shape)\n",
    "print(\"\\n\")\n",
    "print(h.shape)\n",
    "print(h)"
   ]
  },
  {
   "cell_type": "code",
   "execution_count": null,
   "id": "7f3e1daa-8ea4-41e7-a620-441fc4973540",
   "metadata": {},
   "outputs": [
    {
     "data": {
      "text/plain": [
       "array([2, 3, 5, 0, 3])"
      ]
     },
     "execution_count": 67,
     "metadata": {},
     "output_type": "execute_result"
    }
   ],
   "source": [
    "import numpy as np\n",
    "\n",
    "m = np.random.randint(8,size=5)\n",
    "m.dtype                                                   #numpy array nesnesinin tipini döndürür."
   ]
  },
  {
   "cell_type": "code",
   "execution_count": 6,
   "id": "95fd0b5a-49f1-4b17-86b1-0d4822efc0c6",
   "metadata": {},
   "outputs": [
    {
     "data": {
      "text/plain": [
       "array([[1, 0, 0, 0, 0, 0],\n",
       "       [0, 1, 0, 0, 0, 0],\n",
       "       [0, 0, 1, 0, 0, 0],\n",
       "       [0, 0, 0, 1, 0, 0],\n",
       "       [0, 0, 0, 0, 1, 0],\n",
       "       [0, 0, 0, 0, 0, 1]])"
      ]
     },
     "execution_count": 6,
     "metadata": {},
     "output_type": "execute_result"
    }
   ],
   "source": [
    "import numpy as np\n",
    "\n",
    "np.eye(6,dtype=\"int\")                                                       #numpy.eye() → Belirlenen boyutlarda 'birim matris' oluşturmamızı sağlayan fonksiyon."
   ]
  },
  {
   "cell_type": "markdown",
   "id": "a6724038-1be5-4d64-bc08-1b1f78c4c9d7",
   "metadata": {},
   "source": [
    "## NumPy Array'i Oluşturmak"
   ]
  },
  {
   "cell_type": "markdown",
   "id": "39f27cb8-a679-4080-945a-f1cfdf78525a",
   "metadata": {},
   "source": [
    "<span style='color:blue'>NumPy Array, tıpkı Pythondaki list,tuple,dict gibi bir veri tipidir diyebiliriz.</span>"
   ]
  },
  {
   "cell_type": "code",
   "execution_count": 7,
   "id": "7904186b-2df7-4246-8a85-9f8ce7ca664e",
   "metadata": {},
   "outputs": [
    {
     "name": "stdout",
     "output_type": "stream",
     "text": [
      "output: [1 2 3 4 5] \n",
      "\n",
      "output: int32 \n",
      "\n",
      "output: <class 'numpy.ndarray'>\n"
     ]
    }
   ],
   "source": [
    "import numpy as np\n",
    "\n",
    "a = np.array([1,2,3,4,5])   #tek boyutlu bir array\n",
    "\n",
    "print(\"output:\",a,\"\\n\")\n",
    "print(\"output:\",a.dtype,\"\\n\")\n",
    "print(\"output:\",type(a))"
   ]
  },
  {
   "cell_type": "markdown",
   "id": "a382dd10-782d-4682-984e-259c9b643d4c",
   "metadata": {},
   "source": [
    "**ÖNEMLİ**  \n",
    "* Eğer bir Numpy dizisine farklı veri tiplerinden değerler girersek dizi içerisinde belli bir kurala bağlı veri dönüşümleri meydana gelir. Bu kuralda veri tiplerinin üstünlüğünü şu şekilde sıralayabiliriz:\n",
    "\n",
    "**String > Float > İnteger > Boolean**\n"
   ]
  },
  {
   "cell_type": "code",
   "execution_count": 8,
   "id": "35536448-4db9-466c-8b78-5b6d2a366007",
   "metadata": {},
   "outputs": [
    {
     "data": {
      "text/plain": [
       "array(['1', '2', '5', 'a'], dtype='<U11')"
      ]
     },
     "execution_count": 8,
     "metadata": {},
     "output_type": "execute_result"
    }
   ],
   "source": [
    "#aşağıdaki kodlarda farklı tipteki veriler içeren bir arrayde , array'in verileri sabit bir türde tuttuğunu görmüş oluyoruz.\n",
    "\n",
    "import numpy as np\n",
    "\n",
    "c = np.array([1, 2, 5, 'a'])\n",
    "c\n",
    "                                            #listede float bir değer var diğerleri ise int. NumPy Arrayin özelliği NumPy Array listesinin 'SABİT TİP'deki listeyi saklamak.\n",
    "                                            # işlem sonucunda numpy arrayin tek bir veri türü olur.Örneğe bakılacak olursa dtype = 'dtype = <u11'"
   ]
  },
  {
   "cell_type": "code",
   "execution_count": 9,
   "id": "dd8ec1a2-8f3b-4b61-b50d-e743aeb353e4",
   "metadata": {},
   "outputs": [
    {
     "data": {
      "text/plain": [
       "array(['1', '2.2', '5', 'a'], dtype='<U32')"
      ]
     },
     "execution_count": 9,
     "metadata": {},
     "output_type": "execute_result"
    }
   ],
   "source": [
    "import numpy as np\n",
    "\n",
    "d = np.array([1, 2.2, 5, 'a'])\n",
    "d\n",
    "                       "
   ]
  },
  {
   "cell_type": "code",
   "execution_count": 10,
   "id": "7bc1c86f-0e9d-49a0-8796-bc28c3b4a8d4",
   "metadata": {},
   "outputs": [
    {
     "data": {
      "text/plain": [
       "array(['1.5', '2.2', '5.8', 'a'], dtype='<U32')"
      ]
     },
     "execution_count": 10,
     "metadata": {},
     "output_type": "execute_result"
    }
   ],
   "source": [
    "import numpy as np\n",
    "\n",
    "e = np.array([1.5, 2.2, 5.8, 'a'])\n",
    "e\n",
    "                        "
   ]
  },
  {
   "cell_type": "code",
   "execution_count": 11,
   "id": "3b1c1687-7914-4f39-8a8e-7aaa85a8face",
   "metadata": {},
   "outputs": [
    {
     "data": {
      "text/plain": [
       "array([7.5 , 2.  , 5.78, 7.  ])"
      ]
     },
     "execution_count": 11,
     "metadata": {},
     "output_type": "execute_result"
    }
   ],
   "source": [
    "import numpy as np\n",
    "\n",
    "k = np.array([7.5, 2, 5.78, 7],dtype=\"float\")\n",
    "k"
   ]
  },
  {
   "cell_type": "code",
   "execution_count": 12,
   "id": "88d517f2-3de8-424d-9a58-2aee70c57af6",
   "metadata": {},
   "outputs": [
    {
     "data": {
      "text/plain": [
       "1"
      ]
     },
     "execution_count": 12,
     "metadata": {},
     "output_type": "execute_result"
    }
   ],
   "source": [
    "import numpy as np\n",
    "\n",
    "l = np.array([1.5, 2, 5, 7],dtype=\"int\")\n",
    "l[0]"
   ]
  },
  {
   "cell_type": "code",
   "execution_count": 13,
   "id": "af5f9602-6e50-4bf1-8fc3-2ad93b961098",
   "metadata": {},
   "outputs": [],
   "source": [
    "import numpy as np\n",
    "\n",
    "#e = np.array([1.5, 2.2, 5.8, 'a'],dtype=\"int\")\n",
    "\n",
    "# hata verir. Çünkü dtype'ı int diye tanımladık ama dizinin içinde 'a' karakteri var."
   ]
  },
  {
   "cell_type": "markdown",
   "id": "c4835370-0178-492e-9979-d7a6f5f08b81",
   "metadata": {
    "tags": []
   },
   "source": [
    "<span style='color:purple'>**SIFIRDAN ARRAY OLUŞTURMA**</span>"
   ]
  },
  {
   "cell_type": "markdown",
   "id": "fa096407-ce00-481d-8396-e66b3485b37d",
   "metadata": {},
   "source": [
    "## np.zeros()"
   ]
  },
  {
   "cell_type": "code",
   "execution_count": 58,
   "id": "5b477867-6ef3-41ca-a78a-0f06193c4288",
   "metadata": {},
   "outputs": [
    {
     "data": {
      "text/plain": [
       "array([0, 0, 0, 0])"
      ]
     },
     "execution_count": 58,
     "metadata": {},
     "output_type": "execute_result"
    }
   ],
   "source": [
    "import numpy as np\n",
    "\n",
    "np.zeros(4,dtype=\"int\")                 "
   ]
  },
  {
   "cell_type": "code",
   "execution_count": 15,
   "id": "1936b0d8-5671-4e68-8ccc-78fe218696ff",
   "metadata": {},
   "outputs": [
    {
     "data": {
      "text/plain": [
       "array([[0, 0, 0, 0],\n",
       "       [0, 0, 0, 0],\n",
       "       [0, 0, 0, 0]])"
      ]
     },
     "execution_count": 15,
     "metadata": {},
     "output_type": "execute_result"
    }
   ],
   "source": [
    "import numpy as np\n",
    "   \n",
    "np.zeros((3,4),dtype=\"int\")                #Tüm elemanları 0 olan 3'e 4 lük bir matrix(çift boyutlu) array"
   ]
  },
  {
   "cell_type": "markdown",
   "id": "3041b39b-0dda-4816-b2b4-329f66c8b84d",
   "metadata": {},
   "source": [
    "## np.ones()"
   ]
  },
  {
   "cell_type": "code",
   "execution_count": 179,
   "id": "38c0ae44-1b5d-4fb5-a0ae-3970e72e91b7",
   "metadata": {},
   "outputs": [
    {
     "data": {
      "text/plain": [
       "array([[1, 1],\n",
       "       [1, 1],\n",
       "       [1, 1]])"
      ]
     },
     "execution_count": 179,
     "metadata": {},
     "output_type": "execute_result"
    }
   ],
   "source": [
    "import numpy as np\n",
    "\n",
    "np.ones((3,2),dtype=\"int\")                #Tüm elemanları 1 olan 3'e 2 lük bir matrix(çift boyutlu) array"
   ]
  },
  {
   "cell_type": "markdown",
   "id": "44cf074e-477e-4445-b4fd-3862464aea5f",
   "metadata": {},
   "source": [
    "## np.full()"
   ]
  },
  {
   "cell_type": "code",
   "execution_count": 75,
   "id": "77ec9716-313b-4437-911a-9ffe8f6a21ad",
   "metadata": {},
   "outputs": [
    {
     "data": {
      "text/plain": [
       "array([[9, 9],\n",
       "       [9, 9],\n",
       "       [9, 9],\n",
       "       [9, 9],\n",
       "       [9, 9]])"
      ]
     },
     "execution_count": 75,
     "metadata": {},
     "output_type": "execute_result"
    }
   ],
   "source": [
    "import numpy as np\n",
    "\n",
    "np.full((5,2),9)                          # numpy.full() : istediğimiz sayıyı n boyutlu arraye çeviren bir numpy metodudur.\n",
    "\n",
    "                                          #Tüm elemanları 9 olan 5'e 2 lik bir array\n",
    "                                          #iki boyutlu dizi oluşturmak isterken aralık belirteriz. !! Unutulmaması gereken şey iki boyutlu olmaası için parametreler 1 den başlar. \n",
    "                                          #0 olursa hata verir ---> (0,0) , (5,0)  # sütun boş bırakılırsa tek boyutlu array olur ---> (1,) (1,5) (8,) böyle olursa tek boyutlu olur."
   ]
  },
  {
   "cell_type": "markdown",
   "id": "771982b7-67ce-49ab-a608-a954be365f3b",
   "metadata": {},
   "source": [
    "## np.empty()"
   ]
  },
  {
   "cell_type": "code",
   "execution_count": 180,
   "id": "60106fdf-f23d-4c0b-b586-8ede2bef1002",
   "metadata": {},
   "outputs": [
    {
     "data": {
      "text/plain": [
       "array([[1.        , 2.33333333],\n",
       "       [3.66666667, 5.        ]])"
      ]
     },
     "execution_count": 180,
     "metadata": {},
     "output_type": "execute_result"
    }
   ],
   "source": [
    "np.empty((2,2))                         # numpy.empty() işlevi, girişleri başlatmadan, verilen şekil ve türde yeni bir dizi oluşturmak için kullanılır."
   ]
  },
  {
   "cell_type": "markdown",
   "id": "13940762-675c-47d8-8f81-4276b973cd9a",
   "metadata": {},
   "source": [
    "## np.arange()"
   ]
  },
  {
   "cell_type": "code",
   "execution_count": 119,
   "id": "cd0b0ec0-9757-471a-801d-a74333bed9e6",
   "metadata": {},
   "outputs": [
    {
     "name": "stdout",
     "output_type": "stream",
     "text": [
      "[ 2  3  4  5  6  7  8  9 10 11 12 13 14 15]\n",
      "[10.  12.5 15.  17.5 20.  22.5 25.  27.5 30. ]\n"
     ]
    },
    {
     "data": {
      "text/plain": [
       "array([ 5.5,  8.5, 11.5, 14.5])"
      ]
     },
     "execution_count": 119,
     "metadata": {},
     "output_type": "execute_result"
    }
   ],
   "source": [
    "#np.arange(başlangıç,bitiş,adım sayısı)\n",
    "\n",
    "import numpy as np\n",
    "\n",
    "print(np.arange(2,16,1))\n",
    "print(np.arange(10,30.5,2.5))\n",
    "np.arange(5.5,15.5,3)"
   ]
  },
  {
   "cell_type": "markdown",
   "id": "56e7657c-f8d6-4eaf-86b2-41ec69982830",
   "metadata": {},
   "source": [
    "## np.linspace()"
   ]
  },
  {
   "cell_type": "code",
   "execution_count": 59,
   "id": "ad3bccde-0123-46f1-bddd-1da7205ab23e",
   "metadata": {
    "tags": []
   },
   "outputs": [
    {
     "name": "stdout",
     "output_type": "stream",
     "text": [
      "[1.         1.57142857 2.14285714 2.71428571 3.28571429 3.85714286\n",
      " 4.42857143 5.        ]\n",
      "[-2.         -0.55555556  0.88888889  2.33333333  3.77777778  5.22222222\n",
      "  6.66666667  8.11111111  9.55555556 11.        ]\n"
     ]
    },
    {
     "data": {
      "text/plain": [
       "array([ 7.5, 14.5, 21.5, 28.5, 35.5])"
      ]
     },
     "execution_count": 59,
     "metadata": {},
     "output_type": "execute_result"
    }
   ],
   "source": [
    "import numpy as np\n",
    "\n",
    "print(np.linspace(1,5,8))\n",
    "print(np.linspace(-2,11,10))\n",
    "                                           #(1.değeri,2.değer,kaç tane değer olacak)\n",
    "    \n",
    "np.linspace(7.5,35.5,5)                          #Belirtilen değerler arasında eşit aralıklı sayılar döndürür.\n",
    "                                                 #mesela bu yandaki örnekte her değer arasında fark 7 dir."
   ]
  },
  {
   "cell_type": "markdown",
   "id": "e09a439b-78f6-47c8-ae22-0e099b67e1cb",
   "metadata": {
    "tags": []
   },
   "source": [
    "## np.random.rand()"
   ]
  },
  {
   "cell_type": "code",
   "execution_count": 21,
   "id": "9db9528c-3917-4c24-9514-a5d6eb33748f",
   "metadata": {},
   "outputs": [
    {
     "name": "stdout",
     "output_type": "stream",
     "text": [
      "0.6756161968003667 \n",
      "\n"
     ]
    },
    {
     "data": {
      "text/plain": [
       "array([0.38855791, 0.65964693, 0.35842278])"
      ]
     },
     "execution_count": 21,
     "metadata": {},
     "output_type": "execute_result"
    }
   ],
   "source": [
    "import numpy as np\n",
    "\n",
    "print(np.random.rand(),\"\\n\")   #numpy.rand()yöntemi, 0 ile 1 arasında rastgele bir kayan nokta döndürür.Python random modülündeki random.random()\n",
    "                               # metodundan farklı olarak; np.random.rand(a) 'da 0 ve 1 arasında a tane sayı gelmesini sağlayabiliriz. random.random()\n",
    "                               # metodunda böyle bir parametre giremeyiz.\n",
    "\n",
    "np.random.rand(3)"
   ]
  },
  {
   "cell_type": "markdown",
   "id": "ee2502ff-2e37-4dc4-ba18-0b0bf41e7486",
   "metadata": {},
   "source": [
    "## np.random.randn()"
   ]
  },
  {
   "cell_type": "code",
   "execution_count": 22,
   "id": "e6697b0a-6662-4cd9-9b15-f3d9a41bf0ef",
   "metadata": {},
   "outputs": [
    {
     "data": {
      "text/plain": [
       "array([ 1.7362573 , -0.00233288,  1.14604169,  0.06706319, -0.91245544])"
      ]
     },
     "execution_count": 22,
     "metadata": {},
     "output_type": "execute_result"
    }
   ],
   "source": [
    "import numpy as np\n",
    "\n",
    "x = np.random.randn(5)                      #numpy.rand()yöntemi, -1 ile 1 arasında rastgele bir kayan nokta döndürür.\n",
    "x"
   ]
  },
  {
   "cell_type": "markdown",
   "id": "c23842c0-13b0-477e-8ca8-7f67a2cf2c7e",
   "metadata": {},
   "source": [
    "## np.random.uniform()"
   ]
  },
  {
   "cell_type": "code",
   "execution_count": 161,
   "id": "35838b2d-06d9-4520-a91a-662e83142ac5",
   "metadata": {},
   "outputs": [
    {
     "data": {
      "text/plain": [
       "array([[ 8.47634674,  5.31582812, 18.7558491 , 14.33294999],\n",
       "       [20.43252117, 15.04627601, 22.27108755, 18.4883635 ]])"
      ]
     },
     "execution_count": 161,
     "metadata": {},
     "output_type": "execute_result"
    }
   ],
   "source": [
    "# 2 sayı arasında rastgele ondalıklı sayı üretir.\n",
    "import numpy as np\n",
    "np.random.uniform(5,25,(2,4))"
   ]
  },
  {
   "cell_type": "markdown",
   "id": "28b19b57-a400-4ce0-a5fe-68d8b2a097bd",
   "metadata": {
    "tags": []
   },
   "source": [
    "## np.random.choice()"
   ]
  },
  {
   "cell_type": "code",
   "execution_count": 153,
   "id": "053a57fe-2d79-4564-bf97-3df3198684d0",
   "metadata": {},
   "outputs": [
    {
     "data": {
      "text/plain": [
       "3"
      ]
     },
     "execution_count": 153,
     "metadata": {},
     "output_type": "execute_result"
    }
   ],
   "source": [
    "from numpy import random\n",
    "\n",
    "x = random.choice([3, 5, 7, 9])       #Bir dizideki değerlerden birini döndürür.\n",
    "x"
   ]
  },
  {
   "cell_type": "code",
   "execution_count": 182,
   "id": "3875ae42-17d8-4db3-86c0-3e4b9556c568",
   "metadata": {},
   "outputs": [
    {
     "data": {
      "text/plain": [
       "array([[5, 3, 3, 5, 5],\n",
       "       [5, 5, 5, 7, 7],\n",
       "       [3, 5, 3, 5, 9]])"
      ]
     },
     "execution_count": 182,
     "metadata": {},
     "output_type": "execute_result"
    }
   ],
   "source": [
    "import numpy as np\n",
    "x = np.random.choice([3, 5, 7, 9], size=(3, 5))   #Dizi parametresindeki (3, 5, 7 ve 9) değerlerden oluşan 2 boyutlu bir dizi oluşturur.\n",
    "x"
   ]
  },
  {
   "cell_type": "markdown",
   "id": "189d4771-f37d-418d-924a-b2af23839afe",
   "metadata": {},
   "source": [
    "## np.random.normal()"
   ]
  },
  {
   "cell_type": "code",
   "execution_count": 172,
   "id": "daee4fb1-6453-4ab0-b1de-6d0e779e2b40",
   "metadata": {},
   "outputs": [
    {
     "name": "stdout",
     "output_type": "stream",
     "text": [
      "a matrisi:  [[ 5.66236892  5.22534908  6.356563    0.69965006]\n",
      " [ 8.11587829  0.42194607  4.87509582 -0.12778871]\n",
      " [ 5.89797257  4.75662792  5.53881813  5.33049216]] \n",
      "\n",
      " a matrisinin standart sapma değeri:  2.4948012525500287\n"
     ]
    }
   ],
   "source": [
    "#random.normal(loc=0.0, scale=1.0, size=None)\n",
    "import numpy as np\n",
    "\n",
    "a = np.random.normal(5,3,(3,4)) #ortalaması 5 standart sapması 3 olan 3x4'lik rastgele elemanlardan oluşan bir matrix (ortalama , standart sapma , boyut) = (loc,scale)\n",
    "print(\"a matrisi: \",a,\"\\n\\n\",\"a matrisinin standart sapma değeri: \",np.std(a))"
   ]
  },
  {
   "cell_type": "code",
   "execution_count": 26,
   "id": "15901395-5f5a-4b12-9eab-dc795bc1655b",
   "metadata": {},
   "outputs": [
    {
     "data": {
      "text/plain": [
       "array([25.5263009 , 20.46357273, 12.17752909, 17.31072997, 36.84252905,\n",
       "       16.5514262 , 26.24425735, 20.29154029])"
      ]
     },
     "execution_count": 26,
     "metadata": {},
     "output_type": "execute_result"
    }
   ],
   "source": [
    "a = np.random.normal(20,6,8)   #ortalaması 20 standart sapması 6 olan 8 rastgele elemandan oluşan bir boyutlu array\n",
    "a"
   ]
  },
  {
   "cell_type": "markdown",
   "id": "ba0b0a4f-6ad3-485c-862e-da0f91bc52dd",
   "metadata": {
    "tags": []
   },
   "source": [
    "## np.random.randint()"
   ]
  },
  {
   "cell_type": "code",
   "execution_count": 61,
   "id": "45ed7b69-785b-463a-80a3-a16f74334b14",
   "metadata": {},
   "outputs": [
    {
     "data": {
      "text/plain": [
       "array([[18, 16, 21, 19, 13, 10],\n",
       "       [16,  7, 17, 15, 21, 11],\n",
       "       [ 9,  8, 19, 17, 19, 12],\n",
       "       [14, 18, 21, 15, 20, 12]])"
      ]
     },
     "execution_count": 61,
     "metadata": {},
     "output_type": "execute_result"
    }
   ],
   "source": [
    "import numpy as np\n",
    "\n",
    "np.random.randint(7,22,(4,6))              #iki sayı arasında rastgele tam sayılar üreten 4'e 6 lık bir matrix"
   ]
  },
  {
   "cell_type": "markdown",
   "id": "d77514d2-d8c8-452a-9bde-2d4ec2f9136f",
   "metadata": {},
   "source": [
    "! **tek boyutlu arrayin karşılığı vektör , çift boyutlu arrayin karşılığı matrixdir.**"
   ]
  }
 ],
 "metadata": {
  "kernelspec": {
   "display_name": "Python 3 (ipykernel)",
   "language": "python",
   "name": "python3"
  },
  "language_info": {
   "codemirror_mode": {
    "name": "ipython",
    "version": 3
   },
   "file_extension": ".py",
   "mimetype": "text/x-python",
   "name": "python",
   "nbconvert_exporter": "python",
   "pygments_lexer": "ipython3",
   "version": "3.9.13"
  }
 },
 "nbformat": 4,
 "nbformat_minor": 5
}
