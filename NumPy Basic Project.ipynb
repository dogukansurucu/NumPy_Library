{
 "cells": [
  {
   "cell_type": "markdown",
   "id": "cbfb9795-3b2c-4bb6-b52d-5053b4e8bb6b",
   "metadata": {
    "tags": []
   },
   "source": [
    "## NumPy Uygulama"
   ]
  },
  {
   "cell_type": "code",
   "execution_count": 16,
   "id": "17bdd3b7-a23e-4ffb-b789-194481fc4d33",
   "metadata": {},
   "outputs": [
    {
     "data": {
      "text/plain": [
       "array([10, 15, 30, 45, 60])"
      ]
     },
     "execution_count": 16,
     "metadata": {},
     "output_type": "execute_result"
    }
   ],
   "source": [
    "#1 (10,15,30,45,60) değerlerine sahip numpy dizisi oluşturunuz.\n",
    "\n",
    "import numpy as np\n",
    "np.array([10,15,30,45,60])"
   ]
  },
  {
   "cell_type": "code",
   "execution_count": 17,
   "id": "a846cce2-baf9-4a91-b157-e177d80ef3c8",
   "metadata": {},
   "outputs": [
    {
     "data": {
      "text/plain": [
       "array([ 5,  6,  7,  8,  9, 10, 11, 12, 13, 14])"
      ]
     },
     "execution_count": 17,
     "metadata": {},
     "output_type": "execute_result"
    }
   ],
   "source": [
    "#2 (5-15) arasındaki sayılarla numpy dizisi oluşturunuz.\n",
    "\n",
    "np.arange(5,15)"
   ]
  },
  {
   "cell_type": "code",
   "execution_count": 18,
   "id": "37db99a7-cac4-42e3-a1a0-1278182d0653",
   "metadata": {},
   "outputs": [
    {
     "data": {
      "text/plain": [
       "array([ 5, 10, 15, 20, 25, 30, 35, 40, 45, 50, 55, 60, 65, 70, 75, 80, 85,\n",
       "       90, 95])"
      ]
     },
     "execution_count": 18,
     "metadata": {},
     "output_type": "execute_result"
    }
   ],
   "source": [
    "#3 (5-100) arasında 5'er 5'er artarak numpy dizisi oluşturunuz.\n",
    "\n",
    "np.arange(5,100,5)"
   ]
  },
  {
   "cell_type": "code",
   "execution_count": 20,
   "id": "3abdf1d4-aac1-4eeb-9175-80d2fc73442c",
   "metadata": {},
   "outputs": [
    {
     "data": {
      "text/plain": [
       "array([0, 0, 0, 0, 0, 0, 0, 0, 0, 0])"
      ]
     },
     "execution_count": 20,
     "metadata": {},
     "output_type": "execute_result"
    }
   ],
   "source": [
    "#4 10 elemanlı sıfırlardan oluşan bir dizi oluşturunuz.\n",
    "\n",
    "np.zeros(10,dtype='int')"
   ]
  },
  {
   "cell_type": "code",
   "execution_count": 21,
   "id": "4f4f4a76-335f-4d85-b3d3-efa2882725bb",
   "metadata": {},
   "outputs": [
    {
     "data": {
      "text/plain": [
       "array([1., 1., 1., 1., 1., 1., 1., 1., 1., 1.])"
      ]
     },
     "execution_count": 21,
     "metadata": {},
     "output_type": "execute_result"
    }
   ],
   "source": [
    "#5 10 elemanlı birlerden oluşan bir dizi oluşturunuz.\n",
    "\n",
    "np.ones(10)"
   ]
  },
  {
   "cell_type": "code",
   "execution_count": 41,
   "id": "a798e8eb-e2e4-49bd-bf02-63f2ed617c19",
   "metadata": {},
   "outputs": [
    {
     "data": {
      "text/plain": [
       "array([  0.,  25.,  50.,  75., 100.])"
      ]
     },
     "execution_count": 41,
     "metadata": {},
     "output_type": "execute_result"
    }
   ],
   "source": [
    "#6 (0-100) arasında eşit aralıklı 5 sayı üretin.\n",
    "\n",
    "np.linspace(0,100,5)                "
   ]
  },
  {
   "cell_type": "code",
   "execution_count": 29,
   "id": "f471d1ca-5689-4217-a0f5-967f2371b6fc",
   "metadata": {},
   "outputs": [
    {
     "data": {
      "text/plain": [
       "array([21, 11, 14, 15, 14])"
      ]
     },
     "execution_count": 29,
     "metadata": {},
     "output_type": "execute_result"
    }
   ],
   "source": [
    "#7 (10-30) arasında rastgele 5 tane tamsayı üretin.\n",
    "\n",
    "np.random.randint(10,30,size=5)"
   ]
  },
  {
   "cell_type": "code",
   "execution_count": 106,
   "id": "00ec4ab2-0613-4480-8f9a-18cad21aad39",
   "metadata": {},
   "outputs": [
    {
     "data": {
      "text/plain": [
       "array([-0.24101652,  0.94954318, -1.03078894,  0.29677453, -0.96273809,\n",
       "        0.29882262, -0.09326098, -0.11114609,  1.16862265, -0.18364856])"
      ]
     },
     "execution_count": 106,
     "metadata": {},
     "output_type": "execute_result"
    }
   ],
   "source": [
    "#8 [-1 ile 1] arasında 10 adet sayı üretin.\n",
    "\n",
    "np.random.randn(10)"
   ]
  },
  {
   "cell_type": "code",
   "execution_count": 125,
   "id": "81e7d5b9-a56f-45c9-a5a1-77027861bf78",
   "metadata": {},
   "outputs": [
    {
     "data": {
      "text/plain": [
       "array([[20, 19, 14, 40, 30],\n",
       "       [12, 45, 13, 24, 13],\n",
       "       [44, 45, 39, 49, 23]])"
      ]
     },
     "execution_count": 125,
     "metadata": {},
     "output_type": "execute_result"
    }
   ],
   "source": [
    "#9 (3x5) boyutlarında (10-50) arasında rastgele bir matris oluşturunuz.\n",
    "\n",
    "ö = np.random.randint(10,50,(3,5))\n",
    "ö"
   ]
  },
  {
   "cell_type": "code",
   "execution_count": 126,
   "id": "0ad74e74-2049-42c2-b391-738428e7034d",
   "metadata": {},
   "outputs": [
    {
     "name": "stdout",
     "output_type": "stream",
     "text": [
      "[ 76 109  66 113  66] [123 107 200]\n"
     ]
    }
   ],
   "source": [
    "#10 üretilen matrisin satır ve sütun sayılarının toplamlarını hesapalayınız.\n",
    "\n",
    "print(np.sum(ö,axis=0),np.sum(ö,axis=1))     #axis:0 sütunlarının toplamı axis.1 satırların toplamı"
   ]
  },
  {
   "cell_type": "code",
   "execution_count": 127,
   "id": "46afe0df-dd78-49cc-82ba-e9192a389b9d",
   "metadata": {},
   "outputs": [
    {
     "name": "stdout",
     "output_type": "stream",
     "text": [
      "49 12 28.666666666666668\n"
     ]
    }
   ],
   "source": [
    "#11 üretilen matrisin en büyük, en küçük değeri ve ortalaması nedir ?\n",
    "\n",
    "print(np.max(ö),np.min(ö),np.mean(ö))"
   ]
  },
  {
   "cell_type": "code",
   "execution_count": 136,
   "id": "05e17c90-d65d-449c-95f5-1dd5102cf1d8",
   "metadata": {},
   "outputs": [
    {
     "name": "stdout",
     "output_type": "stream",
     "text": [
      "[[20 19 14 40 30]\n",
      " [12 45 13 24 13]\n",
      " [44 45 39 49 23]] \n",
      "\n",
      "13 \n",
      "\n",
      "5 \n",
      "\n"
     ]
    }
   ],
   "source": [
    "#12 üretilen matrisin en büyük değerinin indeksi kaçtır ?\n",
    "\n",
    "print(ö,\"\\n\")\n",
    "print(np.argmax(ö),\"\\n\")    # matrixteki max değerin indeksini döndürür.Yalnız indeksinin döndürürken matrix olmasına rağmen bir vektörmüş gibi bir indeks numarası gelir.\n",
    "print(np.argmin(ö),\"\\n\")    # matrixteki min değerin indeksini döndürür.  ''"
   ]
  },
  {
   "cell_type": "code",
   "execution_count": 137,
   "id": "7e52b21f-6250-4102-b799-f542e7c59461",
   "metadata": {},
   "outputs": [
    {
     "data": {
      "text/plain": [
       "array([10, 11, 12])"
      ]
     },
     "execution_count": 137,
     "metadata": {},
     "output_type": "execute_result"
    }
   ],
   "source": [
    "#13 (10-20) arasındaki sayıları içeren dizinin ilk 3 elemanını seçiniz.\n",
    "\n",
    "a= np.arange(10,20)\n",
    "a[:3]"
   ]
  },
  {
   "cell_type": "code",
   "execution_count": 138,
   "id": "ae5e74d1-7533-49a8-9809-84a51a7938a4",
   "metadata": {},
   "outputs": [
    {
     "data": {
      "text/plain": [
       "array([19, 18, 17, 16, 15, 14, 13, 12, 11, 10])"
      ]
     },
     "execution_count": 138,
     "metadata": {},
     "output_type": "execute_result"
    }
   ],
   "source": [
    "#14 üretilen dizinin elemanlarını tersten yazdırın.\n",
    "\n",
    "a[::-1]"
   ]
  },
  {
   "cell_type": "code",
   "execution_count": 140,
   "id": "39ad87bd-bb76-4df2-b0eb-07af4a2d8dc5",
   "metadata": {},
   "outputs": [
    {
     "data": {
      "text/plain": [
       "array([20, 19, 14, 40, 30])"
      ]
     },
     "execution_count": 140,
     "metadata": {},
     "output_type": "execute_result"
    }
   ],
   "source": [
    "#15 üretilen matrisin ilk satırını seçiniz.\n",
    "\n",
    "ö[0]"
   ]
  },
  {
   "cell_type": "code",
   "execution_count": 142,
   "id": "7c22ba61-438e-4951-acc6-d690d822a824",
   "metadata": {},
   "outputs": [
    {
     "data": {
      "text/plain": [
       "13"
      ]
     },
     "execution_count": 142,
     "metadata": {},
     "output_type": "execute_result"
    }
   ],
   "source": [
    "#16 üretilen matrisin 2.satır ve 3.sütundaki elemanı hangisidir ?\n",
    "\n",
    "ö[1,2]"
   ]
  },
  {
   "cell_type": "code",
   "execution_count": 144,
   "id": "e22ff757-9fce-4c41-b1da-23b8fe9b0aaa",
   "metadata": {},
   "outputs": [
    {
     "data": {
      "text/plain": [
       "array([20, 12, 44])"
      ]
     },
     "execution_count": 144,
     "metadata": {},
     "output_type": "execute_result"
    }
   ],
   "source": [
    "#17 üretilen matrisin tüm satırlardaki ilk elemanını seçiniz.\n",
    "\n",
    "ö[:,0]"
   ]
  },
  {
   "cell_type": "code",
   "execution_count": 146,
   "id": "fca27fa8-942c-4c20-84b6-259bc2c9e386",
   "metadata": {},
   "outputs": [
    {
     "data": {
      "text/plain": [
       "array([[ 400,  361,  196, 1600,  900],\n",
       "       [ 144, 2025,  169,  576,  169],\n",
       "       [1936, 2025, 1521, 2401,  529]], dtype=int32)"
      ]
     },
     "execution_count": 146,
     "metadata": {},
     "output_type": "execute_result"
    }
   ],
   "source": [
    "#18 üretilen matrisin her bir elemanının karesini alınız.\n",
    "\n",
    "np.power(ö,2)"
   ]
  },
  {
   "cell_type": "code",
   "execution_count": 171,
   "id": "ebebb5b9-48f1-4115-90a8-7f64bd3ef337",
   "metadata": {},
   "outputs": [
    {
     "name": "stdout",
     "output_type": "stream",
     "text": [
      "[[  7  31  44  10  28]\n",
      " [ 34  29  -9   5  40]\n",
      " [-47  49  36  10  10]\n",
      " [  3   6  -1   3  39]\n",
      " [ 11  39   3  46  27]] \n",
      "\n"
     ]
    },
    {
     "data": {
      "text/plain": [
       "array([44, 10, 28, 34, 40, 36, 10, 10,  6, 46])"
      ]
     },
     "execution_count": 171,
     "metadata": {},
     "output_type": "execute_result"
    }
   ],
   "source": [
    "#19 üretilen matris elemanlarının hangisi pozitif çift sayıdır ? Aralığı (-50,+50) arasında yapınız.\n",
    "\n",
    "x = np.random.randint(-50,50,(5,5))\n",
    "\n",
    "print(x,\"\\n\")\n",
    "x[(x>0) & (x%2==0)]"
   ]
  },
  {
   "cell_type": "code",
   "execution_count": null,
   "id": "14751821-8e48-48b8-99e1-70299c8352a0",
   "metadata": {},
   "outputs": [
    {
     "name": "stdout",
     "output_type": "stream",
     "text": [
      "[ 1  3  6 10 15 21]\n"
     ]
    }
   ],
   "source": [
    "#20  np.array([1,2,3,4,5,6]) arrayinde eksen boyunca ögelerin kümülatif toplamı döndürünüz ?\n",
    "\n",
    "arr = np.array([1,2,3,4,5,6])\n",
    "print(np.cumsum(arr))"
   ]
  },
  {
   "cell_type": "markdown",
   "id": "3d0ba020-8520-444a-8d9c-89f0d08408a8",
   "metadata": {},
   "source": [
    "> **NumPy'de ondalık sayıları yuvarlamak için yöntemler:**\n",
    "numpy.around() ,\n",
    "numpy.trunc() ,\n",
    "numpy.fix()"
   ]
  }
 ],
 "metadata": {
  "kernelspec": {
   "display_name": "Python 3 (ipykernel)",
   "language": "python",
   "name": "python3"
  },
  "language_info": {
   "codemirror_mode": {
    "name": "ipython",
    "version": 3
   },
   "file_extension": ".py",
   "mimetype": "text/x-python",
   "name": "python",
   "nbconvert_exporter": "python",
   "pygments_lexer": "ipython3",
   "version": "3.9.13"
  }
 },
 "nbformat": 4,
 "nbformat_minor": 5
}
